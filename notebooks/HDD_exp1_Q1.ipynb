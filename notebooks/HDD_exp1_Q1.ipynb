{
 "cells": [
  {
   "cell_type": "code",
   "execution_count": null,
   "metadata": {},
   "outputs": [],
   "source": [
    "#!pip install pyspark==3.3.2"
   ]
  },
  {
   "cell_type": "code",
   "execution_count": 1,
   "metadata": {},
   "outputs": [],
   "source": [
    "#restart kernel to suppress warnings\n",
    "import warnings\n",
    "warnings.filterwarnings(\"ignore\")"
   ]
  },
  {
   "cell_type": "code",
   "execution_count": 2,
   "metadata": {},
   "outputs": [
    {
     "name": "stdout",
     "output_type": "stream",
     "text": [
      "Welcome to\n",
      "      ____              __\n",
      "     / __/__  ___ _____/ /__\n",
      "    _\\ \\/ _ \\/ _ `/ __/  '_/\n",
      "   /___/ .__/\\_,_/_/ /_/\\_\\   version 3.3.2\n",
      "      /_/\n",
      "                        \n",
      "Using Scala version 2.12.15, OpenJDK 64-Bit Server VM, 17.0.3\n",
      "Branch HEAD\n",
      "Compiled by user liangchi on 2023-02-10T19:57:40Z\n",
      "Revision 5103e00c4ce5fcc4264ca9c4df12295d42557af6\n",
      "Url https://github.com/apache/spark\n",
      "Type --help for more information.\n"
     ]
    }
   ],
   "source": [
    "!pyspark --version"
   ]
  },
  {
   "cell_type": "code",
   "execution_count": 3,
   "metadata": {
    "colab": {
     "base_uri": "https://localhost:8080/"
    },
    "id": "Q1SZdgy4vMgB",
    "outputId": "34a0cbe4-d287-43c1-d496-839e0c8316d8"
   },
   "outputs": [],
   "source": [
    "from sklearn.model_selection import train_test_split\n",
    "from imblearn.over_sampling import SMOTE\n",
    "import numpy as np\n",
    "import pandas as pd\n",
    "from pyspark.sql import SparkSession\n",
    "from pyspark.sql import functions\n",
    "from pyspark.sql.types import StructType, StructField, StringType, IntegerType, LongType\n",
    "from pyspark.sql.functions import col\n"
   ]
  },
  {
   "cell_type": "code",
   "execution_count": null,
   "metadata": {
    "colab": {
     "base_uri": "https://localhost:8080/"
    },
    "id": "4IAOGfNApDgO",
    "outputId": "77be80db-ee98-4b31-8e0e-4362b56de053"
   },
   "outputs": [],
   "source": [
    "!wget \"https://f001.backblazeb2.com/file/Backblaze-Hard-Drive-Data/data_Q1_2022.zip\"\n"
   ]
  },
  {
   "cell_type": "code",
   "execution_count": null,
   "metadata": {
    "colab": {
     "base_uri": "https://localhost:8080/"
    },
    "id": "ufaQ3RR4zbVC",
    "outputId": "b56ef608-5a99-4bc0-c3cd-1fff5dccb0a1"
   },
   "outputs": [],
   "source": [
    "!unzip '/content/data_Q1_2022.zip'"
   ]
  },
  {
   "cell_type": "code",
   "execution_count": 5,
   "metadata": {
    "id": "VFBR_cEOEvtQ"
   },
   "outputs": [
    {
     "name": "stderr",
     "output_type": "stream",
     "text": [
      "Setting default log level to \"WARN\".\n",
      "To adjust logging level use sc.setLogLevel(newLevel). For SparkR, use setLogLevel(newLevel).\n"
     ]
    },
    {
     "name": "stdout",
     "output_type": "stream",
     "text": [
      "23/03/23 11:44:46 WARN NativeCodeLoader: Unable to load native-hadoop library for your platform... using builtin-java classes where applicable\n"
     ]
    }
   ],
   "source": [
    "spark = SparkSession.builder\\\n",
    "        .master(\"local\")\\\n",
    "        .appName(\"Colab\")\\\n",
    "        .config('spark.ui.port', '4050')\\\n",
    "        .config(\"spark.memory.offHeap.enabled\",\"true\")\\\n",
    "        .config(\"spark.memory.offHeap.size\", \"8g\")\\\n",
    "        .config(\"spark.driver.memory\", \"8g\")\\\n",
    "        .config(\"spark.driver.maxResultSize\", 0)\\\n",
    "        .getOrCreate()"
   ]
  },
  {
   "cell_type": "code",
   "execution_count": 9,
   "metadata": {
    "colab": {
     "base_uri": "https://localhost:8080/"
    },
    "id": "t9uLRc2OQbp1",
    "outputId": "0e7a2b50-d975-4e2b-905a-ed658fe5e11d"
   },
   "outputs": [
    {
     "name": "stderr",
     "output_type": "stream",
     "text": [
      "[Stage 7:========================================================>(89 + 1) / 90]\r"
     ]
    },
    {
     "name": "stdout",
     "output_type": "stream",
     "text": [
      "CPU times: user 70.9 ms, sys: 27.5 ms, total: 98.4 ms\n",
      "Wall time: 2min 16s\n"
     ]
    },
    {
     "name": "stderr",
     "output_type": "stream",
     "text": [
      "                                                                                \r"
     ]
    }
   ],
   "source": [
    "%%time\n",
    "df = spark.read.csv(\"data_Q1_2022\", header=True, inferSchema=True)"
   ]
  },
  {
   "cell_type": "code",
   "execution_count": 10,
   "metadata": {
    "colab": {
     "base_uri": "https://localhost:8080/"
    },
    "id": "IiDMtPfrN2Wp",
    "outputId": "8db131e0-212f-4926-e7e5-a1eb31ecfdb1"
   },
   "outputs": [
    {
     "name": "stdout",
     "output_type": "stream",
     "text": [
      "root\n",
      " |-- date: timestamp (nullable = true)\n",
      " |-- serial_number: string (nullable = true)\n",
      " |-- model: string (nullable = true)\n",
      " |-- capacity_bytes: long (nullable = true)\n",
      " |-- failure: integer (nullable = true)\n",
      " |-- smart_1_normalized: integer (nullable = true)\n",
      " |-- smart_1_raw: integer (nullable = true)\n",
      " |-- smart_2_normalized: integer (nullable = true)\n",
      " |-- smart_2_raw: integer (nullable = true)\n",
      " |-- smart_3_normalized: integer (nullable = true)\n",
      " |-- smart_3_raw: integer (nullable = true)\n",
      " |-- smart_4_normalized: integer (nullable = true)\n",
      " |-- smart_4_raw: integer (nullable = true)\n",
      " |-- smart_5_normalized: integer (nullable = true)\n",
      " |-- smart_5_raw: integer (nullable = true)\n",
      " |-- smart_7_normalized: integer (nullable = true)\n",
      " |-- smart_7_raw: long (nullable = true)\n",
      " |-- smart_8_normalized: integer (nullable = true)\n",
      " |-- smart_8_raw: integer (nullable = true)\n",
      " |-- smart_9_normalized: integer (nullable = true)\n",
      " |-- smart_9_raw: integer (nullable = true)\n",
      " |-- smart_10_normalized: integer (nullable = true)\n",
      " |-- smart_10_raw: integer (nullable = true)\n",
      " |-- smart_11_normalized: integer (nullable = true)\n",
      " |-- smart_11_raw: integer (nullable = true)\n",
      " |-- smart_12_normalized: integer (nullable = true)\n",
      " |-- smart_12_raw: integer (nullable = true)\n",
      " |-- smart_13_normalized: integer (nullable = true)\n",
      " |-- smart_13_raw: integer (nullable = true)\n",
      " |-- smart_15_normalized: string (nullable = true)\n",
      " |-- smart_15_raw: string (nullable = true)\n",
      " |-- smart_16_normalized: integer (nullable = true)\n",
      " |-- smart_16_raw: integer (nullable = true)\n",
      " |-- smart_17_normalized: integer (nullable = true)\n",
      " |-- smart_17_raw: integer (nullable = true)\n",
      " |-- smart_18_normalized: integer (nullable = true)\n",
      " |-- smart_18_raw: integer (nullable = true)\n",
      " |-- smart_22_normalized: integer (nullable = true)\n",
      " |-- smart_22_raw: integer (nullable = true)\n",
      " |-- smart_23_normalized: integer (nullable = true)\n",
      " |-- smart_23_raw: integer (nullable = true)\n",
      " |-- smart_24_normalized: integer (nullable = true)\n",
      " |-- smart_24_raw: integer (nullable = true)\n",
      " |-- smart_160_normalized: string (nullable = true)\n",
      " |-- smart_160_raw: string (nullable = true)\n",
      " |-- smart_161_normalized: string (nullable = true)\n",
      " |-- smart_161_raw: string (nullable = true)\n",
      " |-- smart_163_normalized: string (nullable = true)\n",
      " |-- smart_163_raw: string (nullable = true)\n",
      " |-- smart_164_normalized: string (nullable = true)\n",
      " |-- smart_164_raw: string (nullable = true)\n",
      " |-- smart_165_normalized: integer (nullable = true)\n",
      " |-- smart_165_raw: long (nullable = true)\n",
      " |-- smart_166_normalized: integer (nullable = true)\n",
      " |-- smart_166_raw: integer (nullable = true)\n",
      " |-- smart_167_normalized: integer (nullable = true)\n",
      " |-- smart_167_raw: integer (nullable = true)\n",
      " |-- smart_168_normalized: integer (nullable = true)\n",
      " |-- smart_168_raw: integer (nullable = true)\n",
      " |-- smart_169_normalized: integer (nullable = true)\n",
      " |-- smart_169_raw: integer (nullable = true)\n",
      " |-- smart_170_normalized: integer (nullable = true)\n",
      " |-- smart_170_raw: long (nullable = true)\n",
      " |-- smart_171_normalized: integer (nullable = true)\n",
      " |-- smart_171_raw: integer (nullable = true)\n",
      " |-- smart_172_normalized: integer (nullable = true)\n",
      " |-- smart_172_raw: integer (nullable = true)\n",
      " |-- smart_173_normalized: integer (nullable = true)\n",
      " |-- smart_173_raw: long (nullable = true)\n",
      " |-- smart_174_normalized: integer (nullable = true)\n",
      " |-- smart_174_raw: integer (nullable = true)\n",
      " |-- smart_175_normalized: string (nullable = true)\n",
      " |-- smart_175_raw: string (nullable = true)\n",
      " |-- smart_176_normalized: string (nullable = true)\n",
      " |-- smart_176_raw: string (nullable = true)\n",
      " |-- smart_177_normalized: integer (nullable = true)\n",
      " |-- smart_177_raw: integer (nullable = true)\n",
      " |-- smart_178_normalized: string (nullable = true)\n",
      " |-- smart_178_raw: string (nullable = true)\n",
      " |-- smart_179_normalized: integer (nullable = true)\n",
      " |-- smart_179_raw: integer (nullable = true)\n",
      " |-- smart_180_normalized: integer (nullable = true)\n",
      " |-- smart_180_raw: integer (nullable = true)\n",
      " |-- smart_181_normalized: integer (nullable = true)\n",
      " |-- smart_181_raw: integer (nullable = true)\n",
      " |-- smart_182_normalized: integer (nullable = true)\n",
      " |-- smart_182_raw: integer (nullable = true)\n",
      " |-- smart_183_normalized: integer (nullable = true)\n",
      " |-- smart_183_raw: integer (nullable = true)\n",
      " |-- smart_184_normalized: integer (nullable = true)\n",
      " |-- smart_184_raw: integer (nullable = true)\n",
      " |-- smart_187_normalized: integer (nullable = true)\n",
      " |-- smart_187_raw: integer (nullable = true)\n",
      " |-- smart_188_normalized: integer (nullable = true)\n",
      " |-- smart_188_raw: long (nullable = true)\n",
      " |-- smart_189_normalized: integer (nullable = true)\n",
      " |-- smart_189_raw: integer (nullable = true)\n",
      " |-- smart_190_normalized: integer (nullable = true)\n",
      " |-- smart_190_raw: integer (nullable = true)\n",
      " |-- smart_191_normalized: integer (nullable = true)\n",
      " |-- smart_191_raw: integer (nullable = true)\n",
      " |-- smart_192_normalized: integer (nullable = true)\n",
      " |-- smart_192_raw: integer (nullable = true)\n",
      " |-- smart_193_normalized: integer (nullable = true)\n",
      " |-- smart_193_raw: integer (nullable = true)\n",
      " |-- smart_194_normalized: integer (nullable = true)\n",
      " |-- smart_194_raw: integer (nullable = true)\n",
      " |-- smart_195_normalized: integer (nullable = true)\n",
      " |-- smart_195_raw: integer (nullable = true)\n",
      " |-- smart_196_normalized: integer (nullable = true)\n",
      " |-- smart_196_raw: integer (nullable = true)\n",
      " |-- smart_197_normalized: integer (nullable = true)\n",
      " |-- smart_197_raw: integer (nullable = true)\n",
      " |-- smart_198_normalized: integer (nullable = true)\n",
      " |-- smart_198_raw: integer (nullable = true)\n",
      " |-- smart_199_normalized: integer (nullable = true)\n",
      " |-- smart_199_raw: integer (nullable = true)\n",
      " |-- smart_200_normalized: integer (nullable = true)\n",
      " |-- smart_200_raw: integer (nullable = true)\n",
      " |-- smart_201_normalized: integer (nullable = true)\n",
      " |-- smart_201_raw: integer (nullable = true)\n",
      " |-- smart_202_normalized: integer (nullable = true)\n",
      " |-- smart_202_raw: integer (nullable = true)\n",
      " |-- smart_206_normalized: integer (nullable = true)\n",
      " |-- smart_206_raw: integer (nullable = true)\n",
      " |-- smart_210_normalized: integer (nullable = true)\n",
      " |-- smart_210_raw: integer (nullable = true)\n",
      " |-- smart_218_normalized: integer (nullable = true)\n",
      " |-- smart_218_raw: integer (nullable = true)\n",
      " |-- smart_220_normalized: integer (nullable = true)\n",
      " |-- smart_220_raw: integer (nullable = true)\n",
      " |-- smart_222_normalized: integer (nullable = true)\n",
      " |-- smart_222_raw: integer (nullable = true)\n",
      " |-- smart_223_normalized: integer (nullable = true)\n",
      " |-- smart_223_raw: integer (nullable = true)\n",
      " |-- smart_224_normalized: integer (nullable = true)\n",
      " |-- smart_224_raw: integer (nullable = true)\n",
      " |-- smart_225_normalized: integer (nullable = true)\n",
      " |-- smart_225_raw: integer (nullable = true)\n",
      " |-- smart_226_normalized: integer (nullable = true)\n",
      " |-- smart_226_raw: integer (nullable = true)\n",
      " |-- smart_230_normalized: integer (nullable = true)\n",
      " |-- smart_230_raw: long (nullable = true)\n",
      " |-- smart_231_normalized: integer (nullable = true)\n",
      " |-- smart_231_raw: long (nullable = true)\n",
      " |-- smart_232_normalized: integer (nullable = true)\n",
      " |-- smart_232_raw: long (nullable = true)\n",
      " |-- smart_233_normalized: integer (nullable = true)\n",
      " |-- smart_233_raw: long (nullable = true)\n",
      " |-- smart_234_normalized: integer (nullable = true)\n",
      " |-- smart_234_raw: long (nullable = true)\n",
      " |-- smart_235_normalized: integer (nullable = true)\n",
      " |-- smart_235_raw: long (nullable = true)\n",
      " |-- smart_240_normalized: integer (nullable = true)\n",
      " |-- smart_240_raw: integer (nullable = true)\n",
      " |-- smart_241_normalized: integer (nullable = true)\n",
      " |-- smart_241_raw: long (nullable = true)\n",
      " |-- smart_242_normalized: integer (nullable = true)\n",
      " |-- smart_242_raw: long (nullable = true)\n",
      " |-- smart_244_normalized: integer (nullable = true)\n",
      " |-- smart_244_raw: integer (nullable = true)\n",
      " |-- smart_245_normalized: integer (nullable = true)\n",
      " |-- smart_245_raw: integer (nullable = true)\n",
      " |-- smart_246_normalized: integer (nullable = true)\n",
      " |-- smart_246_raw: long (nullable = true)\n",
      " |-- smart_247_normalized: integer (nullable = true)\n",
      " |-- smart_247_raw: long (nullable = true)\n",
      " |-- smart_248_normalized: integer (nullable = true)\n",
      " |-- smart_248_raw: long (nullable = true)\n",
      " |-- smart_250_normalized: string (nullable = true)\n",
      " |-- smart_250_raw: string (nullable = true)\n",
      " |-- smart_251_normalized: string (nullable = true)\n",
      " |-- smart_251_raw: string (nullable = true)\n",
      " |-- smart_252_normalized: string (nullable = true)\n",
      " |-- smart_252_raw: string (nullable = true)\n",
      " |-- smart_254_normalized: integer (nullable = true)\n",
      " |-- smart_254_raw: integer (nullable = true)\n",
      " |-- smart_255_normalized: string (nullable = true)\n",
      " |-- smart_255_raw: string (nullable = true)\n",
      "\n"
     ]
    }
   ],
   "source": [
    "df.printSchema()"
   ]
  },
  {
   "cell_type": "code",
   "execution_count": 11,
   "metadata": {},
   "outputs": [
    {
     "name": "stdout",
     "output_type": "stream",
     "text": [
      "root\n",
      " |-- serial_number: string (nullable = true)\n",
      " |-- model: string (nullable = true)\n",
      " |-- capacity_bytes: long (nullable = true)\n",
      " |-- failure: integer (nullable = true)\n",
      " |-- smart_1_raw: integer (nullable = true)\n",
      " |-- smart_2_raw: integer (nullable = true)\n",
      " |-- smart_3_raw: integer (nullable = true)\n",
      " |-- smart_4_raw: integer (nullable = true)\n",
      " |-- smart_5_raw: integer (nullable = true)\n",
      " |-- smart_7_raw: long (nullable = true)\n",
      " |-- smart_8_raw: integer (nullable = true)\n",
      " |-- smart_9_raw: integer (nullable = true)\n",
      " |-- smart_10_raw: integer (nullable = true)\n",
      " |-- smart_11_raw: integer (nullable = true)\n",
      " |-- smart_12_raw: integer (nullable = true)\n",
      " |-- smart_13_raw: integer (nullable = true)\n",
      " |-- smart_15_raw: string (nullable = true)\n",
      " |-- smart_16_raw: integer (nullable = true)\n",
      " |-- smart_17_raw: integer (nullable = true)\n",
      " |-- smart_18_raw: integer (nullable = true)\n",
      " |-- smart_22_raw: integer (nullable = true)\n",
      " |-- smart_23_raw: integer (nullable = true)\n",
      " |-- smart_24_raw: integer (nullable = true)\n",
      " |-- smart_160_raw: string (nullable = true)\n",
      " |-- smart_161_raw: string (nullable = true)\n",
      " |-- smart_163_raw: string (nullable = true)\n",
      " |-- smart_164_raw: string (nullable = true)\n",
      " |-- smart_165_raw: long (nullable = true)\n",
      " |-- smart_166_raw: integer (nullable = true)\n",
      " |-- smart_167_raw: integer (nullable = true)\n",
      " |-- smart_168_raw: integer (nullable = true)\n",
      " |-- smart_169_raw: integer (nullable = true)\n",
      " |-- smart_170_raw: long (nullable = true)\n",
      " |-- smart_171_raw: integer (nullable = true)\n",
      " |-- smart_172_raw: integer (nullable = true)\n",
      " |-- smart_173_raw: long (nullable = true)\n",
      " |-- smart_174_raw: integer (nullable = true)\n",
      " |-- smart_175_raw: string (nullable = true)\n",
      " |-- smart_176_raw: string (nullable = true)\n",
      " |-- smart_177_raw: integer (nullable = true)\n",
      " |-- smart_178_raw: string (nullable = true)\n",
      " |-- smart_179_raw: integer (nullable = true)\n",
      " |-- smart_180_raw: integer (nullable = true)\n",
      " |-- smart_181_raw: integer (nullable = true)\n",
      " |-- smart_182_raw: integer (nullable = true)\n",
      " |-- smart_183_raw: integer (nullable = true)\n",
      " |-- smart_184_raw: integer (nullable = true)\n",
      " |-- smart_187_raw: integer (nullable = true)\n",
      " |-- smart_188_raw: long (nullable = true)\n",
      " |-- smart_189_raw: integer (nullable = true)\n",
      " |-- smart_190_raw: integer (nullable = true)\n",
      " |-- smart_191_raw: integer (nullable = true)\n",
      " |-- smart_192_raw: integer (nullable = true)\n",
      " |-- smart_193_raw: integer (nullable = true)\n",
      " |-- smart_194_raw: integer (nullable = true)\n",
      " |-- smart_195_raw: integer (nullable = true)\n",
      " |-- smart_196_raw: integer (nullable = true)\n",
      " |-- smart_197_raw: integer (nullable = true)\n",
      " |-- smart_198_raw: integer (nullable = true)\n",
      " |-- smart_199_raw: integer (nullable = true)\n",
      " |-- smart_200_raw: integer (nullable = true)\n",
      " |-- smart_201_raw: integer (nullable = true)\n",
      " |-- smart_202_raw: integer (nullable = true)\n",
      " |-- smart_206_raw: integer (nullable = true)\n",
      " |-- smart_210_raw: integer (nullable = true)\n",
      " |-- smart_218_raw: integer (nullable = true)\n",
      " |-- smart_220_raw: integer (nullable = true)\n",
      " |-- smart_222_raw: integer (nullable = true)\n",
      " |-- smart_223_raw: integer (nullable = true)\n",
      " |-- smart_224_raw: integer (nullable = true)\n",
      " |-- smart_225_raw: integer (nullable = true)\n",
      " |-- smart_226_raw: integer (nullable = true)\n",
      " |-- smart_230_raw: long (nullable = true)\n",
      " |-- smart_231_raw: long (nullable = true)\n",
      " |-- smart_232_raw: long (nullable = true)\n",
      " |-- smart_233_raw: long (nullable = true)\n",
      " |-- smart_234_raw: long (nullable = true)\n",
      " |-- smart_235_raw: long (nullable = true)\n",
      " |-- smart_240_raw: integer (nullable = true)\n",
      " |-- smart_241_raw: long (nullable = true)\n",
      " |-- smart_242_raw: long (nullable = true)\n",
      " |-- smart_244_raw: integer (nullable = true)\n",
      " |-- smart_245_raw: integer (nullable = true)\n",
      " |-- smart_246_raw: long (nullable = true)\n",
      " |-- smart_247_raw: long (nullable = true)\n",
      " |-- smart_248_raw: long (nullable = true)\n",
      " |-- smart_250_raw: string (nullable = true)\n",
      " |-- smart_251_raw: string (nullable = true)\n",
      " |-- smart_252_raw: string (nullable = true)\n",
      " |-- smart_254_raw: integer (nullable = true)\n",
      " |-- smart_255_raw: string (nullable = true)\n",
      "\n",
      "CPU times: user 11.9 ms, sys: 7.65 ms, total: 19.6 ms\n",
      "Wall time: 103 ms\n"
     ]
    }
   ],
   "source": [
    "%%time\n",
    "#Selecting all raw values\n",
    "columns = [\"serial_number\"]+[\"model\"]+[\"capacity_bytes\"]+[\"failure\"]+[col_name for col_name in df.columns if 'raw' in col_name]\n",
    "df = df.select(columns)\n",
    "df.printSchema()"
   ]
  },
  {
   "cell_type": "code",
   "execution_count": 12,
   "metadata": {},
   "outputs": [
    {
     "name": "stdout",
     "output_type": "stream",
     "text": [
      "root\n",
      " |-- serial_number: string (nullable = true)\n",
      " |-- model: string (nullable = true)\n",
      " |-- capacity_bytes: long (nullable = true)\n",
      " |-- failure: integer (nullable = true)\n",
      " |-- smart_1_raw: integer (nullable = true)\n",
      " |-- smart_2_raw: integer (nullable = true)\n",
      " |-- smart_3_raw: integer (nullable = true)\n",
      " |-- smart_4_raw: integer (nullable = true)\n",
      " |-- smart_5_raw: integer (nullable = true)\n",
      " |-- smart_7_raw: long (nullable = true)\n",
      " |-- smart_8_raw: integer (nullable = true)\n",
      " |-- smart_9_raw: integer (nullable = true)\n",
      " |-- smart_10_raw: integer (nullable = true)\n",
      " |-- smart_11_raw: integer (nullable = true)\n",
      " |-- smart_12_raw: integer (nullable = true)\n",
      " |-- smart_13_raw: integer (nullable = true)\n",
      " |-- smart_16_raw: integer (nullable = true)\n",
      " |-- smart_17_raw: integer (nullable = true)\n",
      " |-- smart_18_raw: integer (nullable = true)\n",
      " |-- smart_22_raw: integer (nullable = true)\n",
      " |-- smart_23_raw: integer (nullable = true)\n",
      " |-- smart_24_raw: integer (nullable = true)\n",
      " |-- smart_165_raw: long (nullable = true)\n",
      " |-- smart_166_raw: integer (nullable = true)\n",
      " |-- smart_167_raw: integer (nullable = true)\n",
      " |-- smart_168_raw: integer (nullable = true)\n",
      " |-- smart_169_raw: integer (nullable = true)\n",
      " |-- smart_170_raw: long (nullable = true)\n",
      " |-- smart_171_raw: integer (nullable = true)\n",
      " |-- smart_172_raw: integer (nullable = true)\n",
      " |-- smart_173_raw: long (nullable = true)\n",
      " |-- smart_174_raw: integer (nullable = true)\n",
      " |-- smart_177_raw: integer (nullable = true)\n",
      " |-- smart_179_raw: integer (nullable = true)\n",
      " |-- smart_180_raw: integer (nullable = true)\n",
      " |-- smart_181_raw: integer (nullable = true)\n",
      " |-- smart_182_raw: integer (nullable = true)\n",
      " |-- smart_183_raw: integer (nullable = true)\n",
      " |-- smart_184_raw: integer (nullable = true)\n",
      " |-- smart_187_raw: integer (nullable = true)\n",
      " |-- smart_188_raw: long (nullable = true)\n",
      " |-- smart_189_raw: integer (nullable = true)\n",
      " |-- smart_190_raw: integer (nullable = true)\n",
      " |-- smart_191_raw: integer (nullable = true)\n",
      " |-- smart_192_raw: integer (nullable = true)\n",
      " |-- smart_193_raw: integer (nullable = true)\n",
      " |-- smart_194_raw: integer (nullable = true)\n",
      " |-- smart_195_raw: integer (nullable = true)\n",
      " |-- smart_196_raw: integer (nullable = true)\n",
      " |-- smart_197_raw: integer (nullable = true)\n",
      " |-- smart_198_raw: integer (nullable = true)\n",
      " |-- smart_199_raw: integer (nullable = true)\n",
      " |-- smart_200_raw: integer (nullable = true)\n",
      " |-- smart_201_raw: integer (nullable = true)\n",
      " |-- smart_202_raw: integer (nullable = true)\n",
      " |-- smart_206_raw: integer (nullable = true)\n",
      " |-- smart_210_raw: integer (nullable = true)\n",
      " |-- smart_218_raw: integer (nullable = true)\n",
      " |-- smart_220_raw: integer (nullable = true)\n",
      " |-- smart_222_raw: integer (nullable = true)\n",
      " |-- smart_223_raw: integer (nullable = true)\n",
      " |-- smart_224_raw: integer (nullable = true)\n",
      " |-- smart_225_raw: integer (nullable = true)\n",
      " |-- smart_226_raw: integer (nullable = true)\n",
      " |-- smart_230_raw: long (nullable = true)\n",
      " |-- smart_231_raw: long (nullable = true)\n",
      " |-- smart_232_raw: long (nullable = true)\n",
      " |-- smart_233_raw: long (nullable = true)\n",
      " |-- smart_234_raw: long (nullable = true)\n",
      " |-- smart_235_raw: long (nullable = true)\n",
      " |-- smart_240_raw: integer (nullable = true)\n",
      " |-- smart_241_raw: long (nullable = true)\n",
      " |-- smart_242_raw: long (nullable = true)\n",
      " |-- smart_244_raw: integer (nullable = true)\n",
      " |-- smart_245_raw: integer (nullable = true)\n",
      " |-- smart_246_raw: long (nullable = true)\n",
      " |-- smart_247_raw: long (nullable = true)\n",
      " |-- smart_248_raw: long (nullable = true)\n",
      " |-- smart_254_raw: integer (nullable = true)\n",
      "\n"
     ]
    }
   ],
   "source": [
    "#Removing columns with string values\n",
    "cols = (\"smart_255_raw\",\"smart_250_raw\", \"smart_252_raw\", \"smart_251_raw\", \"smart_250_raw\", \"smart_178_raw\", \"smart_176_raw\", \"smart_175_raw\", \"smart_164_raw\", \"smart_163_raw\", \"smart_161_raw\", \"smart_160_raw\", \"smart_15_raw\")\n",
    "df = df.drop(*cols)\n",
    "df.printSchema()"
   ]
  },
  {
   "cell_type": "code",
   "execution_count": 9,
   "metadata": {
    "colab": {
     "base_uri": "https://localhost:8080/"
    },
    "id": "96V229qpR6El",
    "outputId": "2a912bd6-8ff6-438d-a689-ee4a6a0e61be"
   },
   "outputs": [
    {
     "name": "stdout",
     "output_type": "stream",
     "text": [
      "23/03/22 17:09:06 WARN package: Truncated the string representation of a plan since it was too large. This behavior can be adjusted by setting 'spark.sql.debug.maxToStringFields'.\n",
      "+--------------+--------------------+--------------+-------+-----------+-----------+-----------+-----------+-----------+-----------+-----------+-----------+------------+------------+------------+------------+------------+------------+------------+------------+------------+------------+-------------+-------------+-------------+-------------+-------------+-------------+-------------+-------------+-------------+-------------+-------------+-------------+-------------+-------------+-------------+-------------+-------------+-------------+-------------+-------------+-------------+-------------+-------------+-------------+-------------+-------------+-------------+-------------+-------------+-------------+-------------+-------------+-------------+-------------+-------------+-------------+-------------+-------------+-------------+-------------+-------------+-------------+-------------+-------------+-------------+-------------+-------------+-------------+-------------+-------------+-------------+-------------+-------------+-------------+-------------+-------------+-------------+\n",
      "| serial_number|               model|capacity_bytes|failure|smart_1_raw|smart_2_raw|smart_3_raw|smart_4_raw|smart_5_raw|smart_7_raw|smart_8_raw|smart_9_raw|smart_10_raw|smart_11_raw|smart_12_raw|smart_13_raw|smart_16_raw|smart_17_raw|smart_18_raw|smart_22_raw|smart_23_raw|smart_24_raw|smart_165_raw|smart_166_raw|smart_167_raw|smart_168_raw|smart_169_raw|smart_170_raw|smart_171_raw|smart_172_raw|smart_173_raw|smart_174_raw|smart_177_raw|smart_179_raw|smart_180_raw|smart_181_raw|smart_182_raw|smart_183_raw|smart_184_raw|smart_187_raw|smart_188_raw|smart_189_raw|smart_190_raw|smart_191_raw|smart_192_raw|smart_193_raw|smart_194_raw|smart_195_raw|smart_196_raw|smart_197_raw|smart_198_raw|smart_199_raw|smart_200_raw|smart_201_raw|smart_202_raw|smart_206_raw|smart_210_raw|smart_218_raw|smart_220_raw|smart_222_raw|smart_223_raw|smart_224_raw|smart_225_raw|smart_226_raw|smart_230_raw|smart_231_raw|smart_232_raw|smart_233_raw|smart_234_raw|smart_235_raw|smart_240_raw|smart_241_raw|smart_242_raw|smart_244_raw|smart_245_raw|smart_246_raw|smart_247_raw|smart_248_raw|smart_254_raw|\n",
      "+--------------+--------------------+--------------+-------+-----------+-----------+-----------+-----------+-----------+-----------+-----------+-----------+------------+------------+------------+------------+------------+------------+------------+------------+------------+------------+-------------+-------------+-------------+-------------+-------------+-------------+-------------+-------------+-------------+-------------+-------------+-------------+-------------+-------------+-------------+-------------+-------------+-------------+-------------+-------------+-------------+-------------+-------------+-------------+-------------+-------------+-------------+-------------+-------------+-------------+-------------+-------------+-------------+-------------+-------------+-------------+-------------+-------------+-------------+-------------+-------------+-------------+-------------+-------------+-------------+-------------+-------------+-------------+-------------+-------------+-------------+-------------+-------------+-------------+-------------+-------------+-------------+\n",
      "|      ZLW18P9K|       ST14000NM001G|14000519643136|      0|   93821568|       null|          0|         12|          0|  867295791|       null|      12061|           0|        null|          12|        null|        null|        null|           0|        null|        null|        null|         null|         null|         null|         null|         null|         null|         null|         null|         null|         null|         null|         null|         null|         null|         null|         null|         null|            0|            0|         null|           32|         null|            2|         2730|           32|         null|         null|            0|            0|            0|            0|         null|         null|         null|         null|         null|         null|         null|         null|         null|         null|         null|         null|         null|         null|         null|         null|         null|        11542|  82317704688| 166555965924|         null|         null|         null|         null|         null|         null|\n",
      "|      ZLW0EGC7|       ST12000NM001G|12000138625024|      0|  237073736|       null|          0|          1|          0|  253767251|       null|      15305|           0|        null|           1|        null|        null|        null|           0|        null|        null|        null|         null|         null|         null|         null|         null|         null|         null|         null|         null|         null|         null|         null|         null|         null|         null|         null|         null|            0|            0|         null|           47|         null|            0|         3929|           47|         null|         null|            0|            0|            0|            0|         null|         null|         null|         null|         null|         null|         null|         null|         null|         null|         null|         null|         null|         null|         null|         null|         null|        14659|  75213417128| 191137466674|         null|         null|         null|         null|         null|         null|\n",
      "|      ZA1FLE1P|        ST8000NM0055| 8001563222016|      0|   43767696|       null|          0|          8|          0| 2179252667|       null|      14930|           0|        null|           8|        null|        null|        null|        null|        null|        null|        null|         null|         null|         null|         null|         null|         null|         null|         null|         null|         null|         null|         null|         null|         null|         null|         null|            0|            0|            0|            0|           39|         9842|          126|          788|           39|     43767696|         null|            0|            0|            0|         null|         null|         null|         null|         null|         null|         null|         null|         null|         null|         null|         null|         null|         null|         null|         null|         null|         null|        14873|  28689836712| 278756629604|         null|         null|         null|         null|         null|         null|\n",
      "|      ZA16NQJR|        ST8000NM0055| 8001563222016|      0|   51229064|       null|          0|         11|          0| 1750005673|       null|      43109|           0|        null|          11|        null|        null|        null|        null|        null|        null|        null|         null|         null|         null|         null|         null|         null|         null|         null|         null|         null|         null|         null|         null|         null|         null|         null|            0|            0|            0|            0|           34|        11576|           16|        65836|           34|     51229064|         null|            0|            0|            0|         null|         null|         null|         null|         null|         null|         null|         null|         null|         null|         null|         null|         null|         null|         null|         null|         null|         null|        43073|  85362050192| 321649131938|         null|         null|         null|         null|         null|         null|\n",
      "|  1050A084F97G| TOSHIBA MG07ACA14TA|14000519643136|      0|          0|          0|       7770|          3|          0|          0|          0|       8234|           0|        null|           3|        null|        null|        null|        null|        null|           0|           0|         null|         null|         null|         null|         null|         null|         null|         null|         null|         null|         null|         null|         null|         null|         null|         null|         null|         null|         null|         null|         null|            0|            1|           13|           28|         null|            0|            0|            0|            0|         null|         null|         null|         null|         null|         null|     51118082|         8198|            0|            0|         null|          592|         null|         null|         null|         null|         null|         null|            0|         null|         null|         null|         null|         null|         null|         null|         null|\n",
      "|PL1331LAHEYUGH|HGST HMS5C4040BLE640| 4000787030016|      0|          0|        104|        542|         13|          0|          0|         42|      45203|           0|        null|          13|        null|        null|        null|        null|        null|        null|        null|         null|         null|         null|         null|         null|         null|         null|         null|         null|         null|         null|         null|         null|         null|         null|         null|         null|         null|         null|         null|         null|         null|          395|          395|           23|         null|            0|            0|            0|            0|         null|         null|         null|         null|         null|         null|         null|         null|         null|         null|         null|         null|         null|         null|         null|         null|         null|         null|         null|         null|         null|         null|         null|         null|         null|         null|         null|\n",
      "|      ZA130TTW|         ST8000DM002| 8001563222016|      0|  198469792|       null|          0|          3|          0|  250252420|       null|      48189|           0|        null|           3|        null|        null|        null|        null|        null|        null|        null|         null|         null|         null|         null|         null|         null|         null|         null|         null|         null|         null|         null|         null|         null|         null|         null|            0|            0|            0|            0|           30|        44467|            0|        54599|           30|    198469792|         null|            0|            0|            0|         null|         null|         null|         null|         null|         null|         null|         null|         null|         null|         null|         null|         null|         null|         null|         null|         null|         null|        48143|  95173663408| 354799980422|         null|         null|         null|         null|         null|         null|\n",
      "|  7040A07GF97G| TOSHIBA MG07ACA14TA|14000519643136|      0|          0|          0|       7892|          6|          0|          0|          0|      10741|           0|        null|           6|        null|        null|        null|        null|        null|           0|           0|         null|         null|         null|         null|         null|         null|         null|         null|         null|         null|         null|         null|         null|         null|         null|         null|         null|         null|         null|         null|         null|            1|            2|           12|           23|         null|            0|            0|            0|            0|         null|         null|         null|         null|         null|         null|    236847106|        10356|            0|            0|         null|          594|         null|         null|         null|         null|         null|         null|            0|         null|         null|         null|         null|         null|         null|         null|         null|\n",
      "|  1070A04CF97G| TOSHIBA MG07ACA14TA|14000519643136|      0|          0|          0|       7853|          4|          0|          0|          0|      13839|           0|        null|           4|        null|        null|        null|        null|        null|           0|           0|         null|         null|         null|         null|         null|         null|         null|         null|         null|         null|         null|         null|         null|         null|         null|         null|         null|         null|         null|         null|         null|            0|            3|           15|           21|         null|            0|            0|            0|            0|         null|         null|         null|         null|         null|         null|    251920386|        13398|            0|            0|         null|          537|         null|         null|         null|         null|         null|         null|            0|         null|         null|         null|         null|         null|         null|         null|         null|\n",
      "|      ZL005BVZ|       ST12000NM0008|12000138625024|      0|   81764016|       null|          0|          9|          0|  380254756|       null|      14225|           0|        null|           9|        null|        null|        null|           0|        null|        null|        null|         null|         null|         null|         null|         null|         null|         null|         null|         null|         null|         null|         null|         null|         null|         null|         null|         null|            0|            0|         null|           29|         null|            4|          704|           29|     81764016|         null|            0|            0|            0|            0|         null|         null|         null|         null|         null|         null|         null|         null|         null|         null|         null|         null|         null|         null|         null|         null|         null|        14120|  34428193240| 162923505785|         null|         null|         null|         null|         null|         null|\n",
      "|      ZLW0GQ83|       ST12000NM001G|12000138625024|      0|   43526008|       null|          0|          6|          0|  561159690|       null|      15663|           0|        null|           6|        null|        null|        null|           0|        null|        null|        null|         null|         null|         null|         null|         null|         null|         null|         null|         null|         null|         null|         null|         null|         null|         null|         null|         null|            0|            0|         null|           43|         null|            2|          935|           43|         null|         null|            0|            0|            0|            0|         null|         null|         null|         null|         null|         null|         null|         null|         null|         null|         null|         null|         null|         null|         null|         null|         null|        15500|  74822905664| 313160713788|         null|         null|         null|         null|         null|         null|\n",
      "|      ZLW0GQ82|       ST12000NM001G|12000138625024|      0|  152209472|       null|          0|          6|          0|  280547229|       null|       9037|           0|        null|           6|        null|        null|        null|           0|        null|        null|        null|         null|         null|         null|         null|         null|         null|         null|         null|         null|         null|         null|         null|         null|         null|         null|         null|         null|            0|            0|         null|           27|         null|            1|          491|           27|         null|         null|            0|            0|            0|            0|         null|         null|         null|         null|         null|         null|         null|         null|         null|         null|         null|         null|         null|         null|         null|         null|         null|         8970|  31458286856| 116402745343|         null|         null|         null|         null|         null|         null|\n",
      "|      ZLW0GQ81|       ST12000NM001G|12000138625024|      0|  157849224|       null|          0|          3|          0|  552126266|       null|      15669|           0|        null|           3|        null|        null|        null|           0|        null|        null|        null|         null|         null|         null|         null|         null|         null|         null|         null|         null|         null|         null|         null|         null|         null|         null|         null|         null|            0|            0|         null|           41|         null|            0|          953|           41|         null|         null|            0|            0|            0|            0|         null|         null|         null|         null|         null|         null|         null|         null|         null|         null|         null|         null|         null|         null|         null|         null|         null|        15508|  74630294240| 315664922060|         null|         null|         null|         null|         null|         null|\n",
      "|      ZLW18P9F|       ST14000NM001G|14000519643136|      0|    9489896|       null|          0|          4|          0|  355981103|       null|      12703|           0|        null|           4|        null|        null|        null|           0|        null|        null|        null|         null|         null|         null|         null|         null|         null|         null|         null|         null|         null|         null|         null|         null|         null|         null|         null|         null|            0|            0|         null|           31|         null|            0|         1867|           31|         null|         null|            0|            0|            0|            0|         null|         null|         null|         null|         null|         null|         null|         null|         null|         null|         null|         null|         null|         null|         null|         null|         null|        12001|  75778538472| 274085025604|         null|         null|         null|         null|         null|         null|\n",
      "|      ZLW0GQ87|       ST12000NM001G|12000138625024|      0|  164128832|       null|          0|         17|          0|  366622524|       null|      16452|           0|        null|          16|        null|        null|        null|           0|        null|        null|        null|         null|         null|         null|         null|         null|         null|         null|         null|         null|         null|         null|         null|         null|         null|         null|         null|         null|            0|            0|         null|           27|         null|            4|         1200|           27|         null|         null|            0|            0|            0|            0|         null|         null|         null|         null|         null|         null|         null|         null|         null|         null|         null|         null|         null|         null|         null|         null|         null|        16126|  75048177000| 284735906274|         null|         null|         null|         null|         null|         null|\n",
      "|      ZLW0GQ86|       ST12000NM001G|12000138625024|      0|  172479200|       null|          0|          7|          0|  416990813|       null|      12640|           0|        null|           7|        null|        null|        null|           0|        null|        null|        null|         null|         null|         null|         null|         null|         null|         null|         null|         null|         null|         null|         null|         null|         null|         null|         null|         null|            0|            0|         null|           28|         null|            3|          792|           28|         null|         null|            0|            0|            0|            0|         null|         null|         null|         null|         null|         null|         null|         null|         null|         null|         null|         null|         null|         null|         null|         null|         null|        12483|  35318716456| 172622009170|         null|         null|         null|         null|         null|         null|\n",
      "|      ZLW0GQ85|       ST12000NM001G|12000138625024|      0|  111269760|       null|          0|          5|          0|  524407823|       null|      15667|           0|        null|           4|        null|        null|        null|           0|        null|        null|        null|         null|         null|         null|         null|         null|         null|         null|         null|         null|         null|         null|         null|         null|         null|         null|         null|         null|            0|            0|         null|           31|         null|            0|          955|           31|         null|         null|            0|            0|            0|            0|         null|         null|         null|         null|         null|         null|         null|         null|         null|         null|         null|         null|         null|         null|         null|         null|         null|        15502|  75420196064| 333139052002|         null|         null|         null|         null|         null|         null|\n",
      "|  Z8A0A057F97G| TOSHIBA MG07ACA14TA|14000519643136|      0|          0|          0|       7907|          3|          0|          0|          0|      20953|           0|        null|           3|        null|        null|        null|        null|        null|           0|           0|         null|         null|         null|         null|         null|         null|         null|         null|         null|         null|         null|         null|         null|         null|         null|         null|         null|         null|         null|         null|         null|            0|            0|           77|           27|         null|            0|            0|            0|            0|         null|         null|         null|         null|         null|         null|    203161603|        20906|            0|            0|         null|          589|         null|         null|         null|         null|         null|         null|            0|         null|         null|         null|         null|         null|         null|         null|         null|\n",
      "|      ZHZ62XAR|       ST12000NM0008|12000138625024|      0|    4217872|       null|          0|          5|          0|  463751955|       null|      17735|           0|        null|           5|        null|        null|        null|           0|        null|        null|        null|         null|         null|         null|         null|         null|         null|         null|         null|         null|         null|         null|         null|         null|         null|         null|         null|         null|            0|            0|         null|           29|         null|            0|          974|           29|      4217872|         null|            0|            0|            0|            0|         null|         null|         null|         null|         null|         null|         null|         null|         null|         null|         null|         null|         null|         null|         null|         null|         null|        17603|  79602170360| 218009971992|         null|         null|         null|         null|         null|         null|\n",
      "|      ZHZ5B3TB|       ST12000NM0008|12000138625024|      0|  232326976|       null|          0|          2|          0|  360463921|       null|      16992|           0|        null|           2|        null|        null|        null|           0|        null|        null|        null|         null|         null|         null|         null|         null|         null|         null|         null|         null|         null|         null|         null|         null|         null|         null|         null|         null|            0|            0|         null|           39|         null|            1|         1837|           39|    232326976|         null|            0|            0|            0|            0|         null|         null|         null|         null|         null|         null|         null|         null|         null|         null|         null|         null|         null|         null|         null|         null|         null|        16663|  76860206296| 209993734950|         null|         null|         null|         null|         null|         null|\n",
      "+--------------+--------------------+--------------+-------+-----------+-----------+-----------+-----------+-----------+-----------+-----------+-----------+------------+------------+------------+------------+------------+------------+------------+------------+------------+------------+-------------+-------------+-------------+-------------+-------------+-------------+-------------+-------------+-------------+-------------+-------------+-------------+-------------+-------------+-------------+-------------+-------------+-------------+-------------+-------------+-------------+-------------+-------------+-------------+-------------+-------------+-------------+-------------+-------------+-------------+-------------+-------------+-------------+-------------+-------------+-------------+-------------+-------------+-------------+-------------+-------------+-------------+-------------+-------------+-------------+-------------+-------------+-------------+-------------+-------------+-------------+-------------+-------------+-------------+-------------+-------------+-------------+\n",
      "only showing top 20 rows\n",
      "\n"
     ]
    }
   ],
   "source": [
    "df.show()"
   ]
  },
  {
   "cell_type": "code",
   "execution_count": 9,
   "metadata": {},
   "outputs": [
    {
     "data": {
      "text/plain": [
       "DataFrame[serial_number: string, model: string, capacity_bytes: bigint, failure: int, smart_1_raw: int, smart_2_raw: int, smart_3_raw: int, smart_4_raw: int, smart_5_raw: int, smart_7_raw: bigint, smart_8_raw: int, smart_9_raw: int, smart_10_raw: int, smart_11_raw: int, smart_12_raw: int, smart_13_raw: int, smart_15_raw: string, smart_16_raw: int, smart_17_raw: int, smart_18_raw: int, smart_22_raw: int, smart_23_raw: int, smart_24_raw: int, smart_160_raw: string, smart_161_raw: string, smart_163_raw: string, smart_164_raw: string, smart_165_raw: bigint, smart_166_raw: int, smart_167_raw: int, smart_168_raw: int, smart_169_raw: int, smart_170_raw: bigint, smart_171_raw: int, smart_172_raw: int, smart_173_raw: bigint, smart_174_raw: int, smart_175_raw: string, smart_176_raw: string, smart_177_raw: int, smart_178_raw: string, smart_179_raw: int, smart_180_raw: int, smart_181_raw: int, smart_182_raw: int, smart_183_raw: int, smart_184_raw: int, smart_187_raw: int, smart_188_raw: bigint, smart_189_raw: int, smart_190_raw: int, smart_191_raw: int, smart_192_raw: int, smart_193_raw: int, smart_194_raw: int, smart_195_raw: int, smart_196_raw: int, smart_197_raw: int, smart_198_raw: int, smart_199_raw: int, smart_200_raw: int, smart_201_raw: int, smart_202_raw: int, smart_206_raw: int, smart_210_raw: int, smart_218_raw: int, smart_220_raw: int, smart_222_raw: int, smart_223_raw: int, smart_224_raw: int, smart_225_raw: int, smart_226_raw: int, smart_230_raw: bigint, smart_231_raw: bigint, smart_232_raw: bigint, smart_233_raw: bigint, smart_234_raw: bigint, smart_235_raw: bigint, smart_240_raw: int, smart_241_raw: bigint, smart_242_raw: bigint, smart_244_raw: int, smart_245_raw: int, smart_246_raw: bigint, smart_247_raw: bigint, smart_248_raw: bigint, smart_250_raw: string, smart_251_raw: string, smart_252_raw: string, smart_254_raw: int, smart_255_raw: string]"
      ]
     },
     "execution_count": 9,
     "metadata": {},
     "output_type": "execute_result"
    }
   ],
   "source": [
    "df.na.fill(value=0)"
   ]
  },
  {
   "cell_type": "code",
   "execution_count": 9,
   "metadata": {
    "id": "tztxt3ymUSHD"
   },
   "outputs": [],
   "source": [
    "df.createOrReplaceTempView('my_table')"
   ]
  },
  {
   "cell_type": "code",
   "execution_count": 10,
   "metadata": {
    "colab": {
     "base_uri": "https://localhost:8080/"
    },
    "id": "gdiPpvsnGR8v",
    "outputId": "b2443c0b-12d3-4bc1-f470-296e71b638bd"
   },
   "outputs": [
    {
     "name": "stderr",
     "output_type": "stream",
     "text": [
      "[Stage 4:=======================================================> (87 + 1) / 90]\r"
     ]
    },
    {
     "name": "stdout",
     "output_type": "stream",
     "text": [
      "CPU times: user 29.5 ms, sys: 12.5 ms, total: 42 ms\n",
      "Wall time: 12.2 s\n"
     ]
    },
    {
     "name": "stderr",
     "output_type": "stream",
     "text": [
      "                                                                                \r"
     ]
    },
    {
     "data": {
      "text/plain": [
       "18845260"
      ]
     },
     "execution_count": 10,
     "metadata": {},
     "output_type": "execute_result"
    }
   ],
   "source": [
    "%%time\n",
    "df.count()"
   ]
  },
  {
   "cell_type": "code",
   "execution_count": 11,
   "metadata": {
    "id": "gw5NriQ1_dTr"
   },
   "outputs": [],
   "source": [
    "most_failure = spark.sql(\"\"\"SELECT model, COUNT(*) AS num_failures\n",
    "FROM my_table\n",
    "WHERE failure = 1\n",
    "GROUP BY model\n",
    "ORDER BY num_failures DESC\n",
    "LIMIT 10;\"\"\"\n",
    ").cache()"
   ]
  },
  {
   "cell_type": "code",
   "execution_count": 12,
   "metadata": {
    "colab": {
     "base_uri": "https://localhost:8080/"
    },
    "id": "4tC69lqc_f3T",
    "outputId": "9c0aacb8-3702-4212-e396-c4a7f9a2f1e2"
   },
   "outputs": [
    {
     "name": "stderr",
     "output_type": "stream",
     "text": [
      "[Stage 8:===============================>                       (114 + 1) / 200]\r"
     ]
    },
    {
     "name": "stdout",
     "output_type": "stream",
     "text": [
      "+--------------------+------------+\n",
      "|               model|num_failures|\n",
      "+--------------------+------------+\n",
      "|         ST4000DM000|         117|\n",
      "| TOSHIBA MG07ACA14TA|          88|\n",
      "|        ST8000NM0055|          86|\n",
      "|       ST12000NM0008|          73|\n",
      "|         ST8000DM002|          38|\n",
      "|       ST14000NM001G|          24|\n",
      "|       ST16000NM001G|          24|\n",
      "|HGST HMS5C4040ALE640|          21|\n",
      "|HGST HUH721212ALE604|          21|\n",
      "|       ST12000NM001G|          20|\n",
      "+--------------------+------------+\n",
      "\n",
      "CPU times: user 57.4 ms, sys: 22.5 ms, total: 79.8 ms\n",
      "Wall time: 1min 1s\n"
     ]
    },
    {
     "name": "stderr",
     "output_type": "stream",
     "text": [
      "                                                                                \r"
     ]
    }
   ],
   "source": [
    "%%time\n",
    "most_failure.show()"
   ]
  },
  {
   "cell_type": "code",
   "execution_count": 15,
   "metadata": {
    "colab": {
     "base_uri": "https://localhost:8080/"
    },
    "id": "iMBvjZrnQ25m",
    "outputId": "9cea39ca-03bb-42c9-e489-fd2af8b0d875"
   },
   "outputs": [
    {
     "name": "stderr",
     "output_type": "stream",
     "text": [
      "[Stage 25:=======================================================>(89 + 1) / 90]\r"
     ]
    },
    {
     "name": "stdout",
     "output_type": "stream",
     "text": [
      "18844596 664\n"
     ]
    },
    {
     "name": "stderr",
     "output_type": "stream",
     "text": [
      "                                                                                \r"
     ]
    }
   ],
   "source": [
    "#using sql as it is much faster\n",
    "zero = spark.sql(\"SELECT COUNT(*) FROM my_table WHERE failure = 0\").collect()[0][0]\n",
    "one = spark.sql(\"SELECT COUNT(*) FROM my_table WHERE failure = 1\").collect()[0][0]\n",
    "print(zero,one)"
   ]
  },
  {
   "cell_type": "code",
   "execution_count": 21,
   "metadata": {
    "colab": {
     "base_uri": "https://localhost:8080/"
    },
    "id": "ijOgQA13X_fz",
    "outputId": "8a74c034-a4eb-41e4-c61c-e28b92e86766"
   },
   "outputs": [
    {
     "name": "stdout",
     "output_type": "stream",
     "text": [
      "Total number of samples:  18845260\n",
      "Positive samples (Failed drives):  664 \n",
      "percentage of total: 0.0035%\n"
     ]
    }
   ],
   "source": [
    "total = zero + one\n",
    "print(\"Total number of samples: \", total)\n",
    "print(\"Positive samples (Failed drives): \", one, \"\\npercentage of total: {:.4f}%\".format(one*100/total))"
   ]
  },
  {
   "cell_type": "code",
   "execution_count": 13,
   "metadata": {
    "colab": {
     "base_uri": "https://localhost:8080/"
    },
    "id": "GolB0QBE_hKc",
    "outputId": "94841042-df46-44cb-daf2-0aa5a3b489ee"
   },
   "outputs": [
    {
     "name": "stdout",
     "output_type": "stream",
     "text": [
      "23/03/23 11:49:27 WARN package: Truncated the string representation of a plan since it was too large. This behavior can be adjusted by setting 'spark.sql.debug.maxToStringFields'.\n",
      "+-------------+-----------+--------------+-------+-----------+-----------+-----------+-----------+-----------+-----------+-----------+-----------+------------+------------+------------+------------+------------+------------+------------+------------+------------+------------+-------------+-------------+-------------+-------------+-------------+-------------+-------------+-------------+-------------+-------------+-------------+-------------+-------------+-------------+-------------+-------------+-------------+-------------+-------------+-------------+-------------+-------------+-------------+-------------+-------------+-------------+-------------+-------------+-------------+-------------+-------------+-------------+-------------+-------------+-------------+-------------+-------------+-------------+-------------+-------------+-------------+-------------+-------------+-------------+-------------+-------------+-------------+-------------+-------------+-------------+-------------+-------------+-------------+-------------+-------------+-------------+-------------+\n",
      "|serial_number|      model|capacity_bytes|failure|smart_1_raw|smart_2_raw|smart_3_raw|smart_4_raw|smart_5_raw|smart_7_raw|smart_8_raw|smart_9_raw|smart_10_raw|smart_11_raw|smart_12_raw|smart_13_raw|smart_16_raw|smart_17_raw|smart_18_raw|smart_22_raw|smart_23_raw|smart_24_raw|smart_165_raw|smart_166_raw|smart_167_raw|smart_168_raw|smart_169_raw|smart_170_raw|smart_171_raw|smart_172_raw|smart_173_raw|smart_174_raw|smart_177_raw|smart_179_raw|smart_180_raw|smart_181_raw|smart_182_raw|smart_183_raw|smart_184_raw|smart_187_raw|smart_188_raw|smart_189_raw|smart_190_raw|smart_191_raw|smart_192_raw|smart_193_raw|smart_194_raw|smart_195_raw|smart_196_raw|smart_197_raw|smart_198_raw|smart_199_raw|smart_200_raw|smart_201_raw|smart_202_raw|smart_206_raw|smart_210_raw|smart_218_raw|smart_220_raw|smart_222_raw|smart_223_raw|smart_224_raw|smart_225_raw|smart_226_raw|smart_230_raw|smart_231_raw|smart_232_raw|smart_233_raw|smart_234_raw|smart_235_raw|smart_240_raw|smart_241_raw|smart_242_raw|smart_244_raw|smart_245_raw|smart_246_raw|smart_247_raw|smart_248_raw|smart_254_raw|\n",
      "+-------------+-----------+--------------+-------+-----------+-----------+-----------+-----------+-----------+-----------+-----------+-----------+------------+------------+------------+------------+------------+------------+------------+------------+------------+------------+-------------+-------------+-------------+-------------+-------------+-------------+-------------+-------------+-------------+-------------+-------------+-------------+-------------+-------------+-------------+-------------+-------------+-------------+-------------+-------------+-------------+-------------+-------------+-------------+-------------+-------------+-------------+-------------+-------------+-------------+-------------+-------------+-------------+-------------+-------------+-------------+-------------+-------------+-------------+-------------+-------------+-------------+-------------+-------------+-------------+-------------+-------------+-------------+-------------+-------------+-------------+-------------+-------------+-------------+-------------+-------------+-------------+\n",
      "|     Z305DEMX|ST4000DM000| 4000787030016|      0|   14386032|       null|          0|         16|          0|  312626083|       null|      55292|           0|        null|          15|        null|        null|        null|        null|        null|        null|        null|         null|         null|         null|         null|         null|         null|         null|         null|         null|         null|         null|         null|         null|         null|         null|            0|            0|            0|            0|            0|           19|            0|            1|        34459|           19|         null|         null|            0|            0|            0|         null|         null|         null|         null|         null|         null|         null|         null|         null|         null|         null|         null|         null|         null|         null|         null|         null|         null|        54885|  65229206776| 334560626041|         null|         null|         null|         null|         null|         null|\n",
      "|     S301NGZV|ST4000DM000| 4000787030016|      0|   37921224|       null|          0|         19|          0|  339757984|       null|      56267|           0|        null|          19|        null|        null|        null|        null|        null|        null|        null|         null|         null|         null|         null|         null|         null|         null|         null|         null|         null|         null|         null|         null|         null|         null|            2|            0|            0|            0|            0|           28|            0|            0|        17580|           28|         null|         null|            0|            0|            0|         null|         null|         null|         null|         null|         null|         null|         null|         null|         null|         null|         null|         null|         null|         null|         null|         null|         null|        56133|  66905098984|1063484518898|         null|         null|         null|         null|         null|         null|\n",
      "|     S3010M7R|ST4000DM000| 4000787030016|      0|  240150664|       null|          0|         19|          0|  651676751|       null|      60237|           0|        null|          19|        null|        null|        null|        null|        null|        null|        null|         null|         null|         null|         null|         null|         null|         null|         null|         null|         null|         null|         null|         null|         null|         null|            0|            0|            0|            0|            0|           24|            0|            0|        37680|           24|         null|         null|            0|            0|            0|         null|         null|         null|         null|         null|         null|         null|         null|         null|         null|         null|         null|         null|         null|         null|         null|         null|         null|        60024|  73886825928| 432319014024|         null|         null|         null|         null|         null|         null|\n",
      "|     S3010M7H|ST4000DM000| 4000787030016|      0|  172425960|       null|          0|         26|          0|  303794012|       null|      59929|           0|        null|          26|        null|        null|        null|        null|        null|        null|        null|         null|         null|         null|         null|         null|         null|         null|         null|         null|         null|         null|         null|         null|         null|         null|            2|            0|            1|            0|            0|           27|            0|            0|       166863|           27|         null|         null|            0|            0|            0|         null|         null|         null|         null|         null|         null|         null|         null|         null|         null|         null|         null|         null|         null|         null|         null|         null|         null|        59081|  66176975928| 383950590080|         null|         null|         null|         null|         null|         null|\n",
      "|     S3010M7E|ST4000DM000| 4000787030016|      0|   41968136|       null|          0|         19|          0|  798267093|       null|      60243|           0|        null|          19|        null|        null|        null|        null|        null|        null|        null|         null|         null|         null|         null|         null|         null|         null|         null|         null|         null|         null|         null|         null|         null|         null|            5|            0|            0|            0|            0|           23|            0|            0|        39312|           23|         null|         null|            0|            0|            0|         null|         null|         null|         null|         null|         null|         null|         null|         null|         null|         null|         null|         null|         null|         null|         null|         null|         null|        60006|  74355088256| 419639319031|         null|         null|         null|         null|         null|         null|\n",
      "+-------------+-----------+--------------+-------+-----------+-----------+-----------+-----------+-----------+-----------+-----------+-----------+------------+------------+------------+------------+------------+------------+------------+------------+------------+------------+-------------+-------------+-------------+-------------+-------------+-------------+-------------+-------------+-------------+-------------+-------------+-------------+-------------+-------------+-------------+-------------+-------------+-------------+-------------+-------------+-------------+-------------+-------------+-------------+-------------+-------------+-------------+-------------+-------------+-------------+-------------+-------------+-------------+-------------+-------------+-------------+-------------+-------------+-------------+-------------+-------------+-------------+-------------+-------------+-------------+-------------+-------------+-------------+-------------+-------------+-------------+-------------+-------------+-------------+-------------+-------------+-------------+\n",
      "only showing top 5 rows\n",
      "\n"
     ]
    }
   ],
   "source": [
    "# filter the DataFrame to only include rows where the \"model\" column is equal to \"ST4000DM000\"\n",
    "df_filtered = df.filter(col(\"model\") == \"ST4000DM000\")\n",
    "\n",
    "# show the first 5 rows of the filtered DataFrame\n",
    "df_filtered.show(5)"
   ]
  },
  {
   "cell_type": "code",
   "execution_count": 14,
   "metadata": {
    "colab": {
     "base_uri": "https://localhost:8080/"
    },
    "id": "0P-c1gjsMVdK",
    "outputId": "0069874d-3ced-4da2-f0c4-3a794f347d86"
   },
   "outputs": [
    {
     "name": "stdout",
     "output_type": "stream",
     "text": [
      "+-------------+-----------+--------------+-------+-----------+-----------+-----------+-----------+-----------+-----------+-----------+-----------+------------+------------+------------+------------+------------+------------+------------+------------+------------+------------+-------------+-------------+-------------+-------------+-------------+-------------+-------------+-------------+-------------+-------------+-------------+-------------+-------------+-------------+-------------+-------------+-------------+-------------+-------------+-------------+-------------+-------------+-------------+-------------+-------------+-------------+-------------+-------------+-------------+-------------+-------------+-------------+-------------+-------------+-------------+-------------+-------------+-------------+-------------+-------------+-------------+-------------+-------------+-------------+-------------+-------------+-------------+-------------+-------------+-------------+-------------+-------------+-------------+-------------+-------------+-------------+-------------+\n",
      "|serial_number|      model|capacity_bytes|failure|smart_1_raw|smart_2_raw|smart_3_raw|smart_4_raw|smart_5_raw|smart_7_raw|smart_8_raw|smart_9_raw|smart_10_raw|smart_11_raw|smart_12_raw|smart_13_raw|smart_16_raw|smart_17_raw|smart_18_raw|smart_22_raw|smart_23_raw|smart_24_raw|smart_165_raw|smart_166_raw|smart_167_raw|smart_168_raw|smart_169_raw|smart_170_raw|smart_171_raw|smart_172_raw|smart_173_raw|smart_174_raw|smart_177_raw|smart_179_raw|smart_180_raw|smart_181_raw|smart_182_raw|smart_183_raw|smart_184_raw|smart_187_raw|smart_188_raw|smart_189_raw|smart_190_raw|smart_191_raw|smart_192_raw|smart_193_raw|smart_194_raw|smart_195_raw|smart_196_raw|smart_197_raw|smart_198_raw|smart_199_raw|smart_200_raw|smart_201_raw|smart_202_raw|smart_206_raw|smart_210_raw|smart_218_raw|smart_220_raw|smart_222_raw|smart_223_raw|smart_224_raw|smart_225_raw|smart_226_raw|smart_230_raw|smart_231_raw|smart_232_raw|smart_233_raw|smart_234_raw|smart_235_raw|smart_240_raw|smart_241_raw|smart_242_raw|smart_244_raw|smart_245_raw|smart_246_raw|smart_247_raw|smart_248_raw|smart_254_raw|\n",
      "+-------------+-----------+--------------+-------+-----------+-----------+-----------+-----------+-----------+-----------+-----------+-----------+------------+------------+------------+------------+------------+------------+------------+------------+------------+------------+-------------+-------------+-------------+-------------+-------------+-------------+-------------+-------------+-------------+-------------+-------------+-------------+-------------+-------------+-------------+-------------+-------------+-------------+-------------+-------------+-------------+-------------+-------------+-------------+-------------+-------------+-------------+-------------+-------------+-------------+-------------+-------------+-------------+-------------+-------------+-------------+-------------+-------------+-------------+-------------+-------------+-------------+-------------+-------------+-------------+-------------+-------------+-------------+-------------+-------------+-------------+-------------+-------------+-------------+-------------+-------------+-------------+\n",
      "|     Z305DEMX|ST4000DM000| 4000787030016|      0|   14386032|       null|          0|         16|          0|  312626083|       null|      55292|           0|        null|          15|        null|        null|        null|        null|        null|        null|        null|         null|         null|         null|         null|         null|         null|         null|         null|         null|         null|         null|         null|         null|         null|         null|            0|            0|            0|            0|            0|           19|            0|            1|        34459|           19|         null|         null|            0|            0|            0|         null|         null|         null|         null|         null|         null|         null|         null|         null|         null|         null|         null|         null|         null|         null|         null|         null|         null|        54885|  65229206776| 334560626041|         null|         null|         null|         null|         null|         null|\n",
      "|     S301NGZV|ST4000DM000| 4000787030016|      0|   37921224|       null|          0|         19|          0|  339757984|       null|      56267|           0|        null|          19|        null|        null|        null|        null|        null|        null|        null|         null|         null|         null|         null|         null|         null|         null|         null|         null|         null|         null|         null|         null|         null|         null|            2|            0|            0|            0|            0|           28|            0|            0|        17580|           28|         null|         null|            0|            0|            0|         null|         null|         null|         null|         null|         null|         null|         null|         null|         null|         null|         null|         null|         null|         null|         null|         null|         null|        56133|  66905098984|1063484518898|         null|         null|         null|         null|         null|         null|\n",
      "|     S3010M7R|ST4000DM000| 4000787030016|      0|  240150664|       null|          0|         19|          0|  651676751|       null|      60237|           0|        null|          19|        null|        null|        null|        null|        null|        null|        null|         null|         null|         null|         null|         null|         null|         null|         null|         null|         null|         null|         null|         null|         null|         null|            0|            0|            0|            0|            0|           24|            0|            0|        37680|           24|         null|         null|            0|            0|            0|         null|         null|         null|         null|         null|         null|         null|         null|         null|         null|         null|         null|         null|         null|         null|         null|         null|         null|        60024|  73886825928| 432319014024|         null|         null|         null|         null|         null|         null|\n",
      "|     S3010M7H|ST4000DM000| 4000787030016|      0|  172425960|       null|          0|         26|          0|  303794012|       null|      59929|           0|        null|          26|        null|        null|        null|        null|        null|        null|        null|         null|         null|         null|         null|         null|         null|         null|         null|         null|         null|         null|         null|         null|         null|         null|            2|            0|            1|            0|            0|           27|            0|            0|       166863|           27|         null|         null|            0|            0|            0|         null|         null|         null|         null|         null|         null|         null|         null|         null|         null|         null|         null|         null|         null|         null|         null|         null|         null|        59081|  66176975928| 383950590080|         null|         null|         null|         null|         null|         null|\n",
      "|     S3010M7E|ST4000DM000| 4000787030016|      0|   41968136|       null|          0|         19|          0|  798267093|       null|      60243|           0|        null|          19|        null|        null|        null|        null|        null|        null|        null|         null|         null|         null|         null|         null|         null|         null|         null|         null|         null|         null|         null|         null|         null|         null|            5|            0|            0|            0|            0|           23|            0|            0|        39312|           23|         null|         null|            0|            0|            0|         null|         null|         null|         null|         null|         null|         null|         null|         null|         null|         null|         null|         null|         null|         null|         null|         null|         null|        60006|  74355088256| 419639319031|         null|         null|         null|         null|         null|         null|\n",
      "+-------------+-----------+--------------+-------+-----------+-----------+-----------+-----------+-----------+-----------+-----------+-----------+------------+------------+------------+------------+------------+------------+------------+------------+------------+------------+-------------+-------------+-------------+-------------+-------------+-------------+-------------+-------------+-------------+-------------+-------------+-------------+-------------+-------------+-------------+-------------+-------------+-------------+-------------+-------------+-------------+-------------+-------------+-------------+-------------+-------------+-------------+-------------+-------------+-------------+-------------+-------------+-------------+-------------+-------------+-------------+-------------+-------------+-------------+-------------+-------------+-------------+-------------+-------------+-------------+-------------+-------------+-------------+-------------+-------------+-------------+-------------+-------------+-------------+-------------+-------------+-------------+\n",
      "only showing top 5 rows\n",
      "\n"
     ]
    }
   ],
   "source": [
    "df = df_filtered\n",
    "df.show(5)"
   ]
  },
  {
   "cell_type": "code",
   "execution_count": 24,
   "metadata": {},
   "outputs": [],
   "source": [
    "df.createOrReplaceTempView('my_table')"
   ]
  },
  {
   "cell_type": "code",
   "execution_count": 25,
   "metadata": {},
   "outputs": [
    {
     "name": "stderr",
     "output_type": "stream",
     "text": [
      "[Stage 33:=======================================================>(89 + 1) / 90]\r"
     ]
    },
    {
     "name": "stdout",
     "output_type": "stream",
     "text": [
      "1670278 117\n"
     ]
    },
    {
     "name": "stderr",
     "output_type": "stream",
     "text": [
      "                                                                                \r"
     ]
    }
   ],
   "source": [
    "zero = spark.sql(\"SELECT COUNT(*) FROM my_table WHERE failure = 0\").collect()[0][0]\n",
    "one = spark.sql(\"SELECT COUNT(*) FROM my_table WHERE failure = 1\").collect()[0][0]\n",
    "print(zero,one)"
   ]
  },
  {
   "cell_type": "code",
   "execution_count": 26,
   "metadata": {},
   "outputs": [
    {
     "name": "stdout",
     "output_type": "stream",
     "text": [
      "Total number of samples:  1670395\n",
      "Positive samples (Failed drives):  117 \n",
      "percentage of total: 0.0070%\n"
     ]
    }
   ],
   "source": [
    "total = zero + one\n",
    "print(\"Total number of samples: \", total)\n",
    "print(\"Positive samples (Failed drives): \", one, \"\\npercentage of total: {:.4f}%\".format(one*100/total))"
   ]
  },
  {
   "cell_type": "code",
   "execution_count": 15,
   "metadata": {},
   "outputs": [
    {
     "name": "stdout",
     "output_type": "stream",
     "text": [
      "root\n",
      " |-- failure: integer (nullable = true)\n",
      " |-- smart_5_raw: integer (nullable = true)\n",
      " |-- smart_187_raw: integer (nullable = true)\n",
      " |-- smart_188_raw: long (nullable = true)\n",
      " |-- smart_197_raw: integer (nullable = true)\n",
      " |-- smart_198_raw: integer (nullable = true)\n",
      "\n"
     ]
    }
   ],
   "source": [
    "#Selections 5 Smart features\n",
    "columns = [\"failure\"]+[\"smart_5_raw\", \"smart_187_raw\", \"smart_188_raw\", \"smart_197_raw\", \"smart_198_raw\"]\n",
    "df_b = df.select(columns)\n",
    "df_b.printSchema()"
   ]
  },
  {
   "cell_type": "code",
   "execution_count": 16,
   "metadata": {
    "colab": {
     "base_uri": "https://localhost:8080/"
    },
    "id": "iW2PFV0dY6l2",
    "outputId": "04d4879f-fdb5-4fc4-f328-978c9f226694"
   },
   "outputs": [],
   "source": [
    "#!pip install pyarrow\n",
    "spark.conf.set(\"spark.sql.execution.arrow.pyspark.enabled\", \"true\")"
   ]
  },
  {
   "cell_type": "code",
   "execution_count": 17,
   "metadata": {
    "id": "XyFA3bn8XnJv"
   },
   "outputs": [
    {
     "name": "stderr",
     "output_type": "stream",
     "text": [
      "[Stage 11:=======================================================>(89 + 1) / 90]\r"
     ]
    },
    {
     "name": "stdout",
     "output_type": "stream",
     "text": [
      "CPU times: user 560 ms, sys: 880 ms, total: 1.44 s\n",
      "Wall time: 2min 2s\n"
     ]
    },
    {
     "name": "stderr",
     "output_type": "stream",
     "text": [
      "                                                                                \r"
     ]
    }
   ],
   "source": [
    "%%time\n",
    "pandas_df = df.toPandas()\n",
    "pandas_df_b = df_b.toPandas()"
   ]
  },
  {
   "cell_type": "code",
   "execution_count": 18,
   "metadata": {},
   "outputs": [
    {
     "data": {
      "text/html": [
       "<div>\n",
       "<style scoped>\n",
       "    .dataframe tbody tr th:only-of-type {\n",
       "        vertical-align: middle;\n",
       "    }\n",
       "\n",
       "    .dataframe tbody tr th {\n",
       "        vertical-align: top;\n",
       "    }\n",
       "\n",
       "    .dataframe thead th {\n",
       "        text-align: right;\n",
       "    }\n",
       "</style>\n",
       "<table border=\"1\" class=\"dataframe\">\n",
       "  <thead>\n",
       "    <tr style=\"text-align: right;\">\n",
       "      <th></th>\n",
       "      <th>serial_number</th>\n",
       "      <th>model</th>\n",
       "      <th>capacity_bytes</th>\n",
       "      <th>failure</th>\n",
       "      <th>smart_1_raw</th>\n",
       "      <th>smart_2_raw</th>\n",
       "      <th>smart_3_raw</th>\n",
       "      <th>smart_4_raw</th>\n",
       "      <th>smart_5_raw</th>\n",
       "      <th>smart_7_raw</th>\n",
       "      <th>...</th>\n",
       "      <th>smart_235_raw</th>\n",
       "      <th>smart_240_raw</th>\n",
       "      <th>smart_241_raw</th>\n",
       "      <th>smart_242_raw</th>\n",
       "      <th>smart_244_raw</th>\n",
       "      <th>smart_245_raw</th>\n",
       "      <th>smart_246_raw</th>\n",
       "      <th>smart_247_raw</th>\n",
       "      <th>smart_248_raw</th>\n",
       "      <th>smart_254_raw</th>\n",
       "    </tr>\n",
       "  </thead>\n",
       "  <tbody>\n",
       "    <tr>\n",
       "      <th>0</th>\n",
       "      <td>Z305DEMX</td>\n",
       "      <td>ST4000DM000</td>\n",
       "      <td>4000787030016</td>\n",
       "      <td>0</td>\n",
       "      <td>14386032.0</td>\n",
       "      <td>NaN</td>\n",
       "      <td>0.0</td>\n",
       "      <td>16.0</td>\n",
       "      <td>0.0</td>\n",
       "      <td>312626083.0</td>\n",
       "      <td>...</td>\n",
       "      <td>NaN</td>\n",
       "      <td>54885.0</td>\n",
       "      <td>6.522921e+10</td>\n",
       "      <td>3.345606e+11</td>\n",
       "      <td>NaN</td>\n",
       "      <td>NaN</td>\n",
       "      <td>NaN</td>\n",
       "      <td>NaN</td>\n",
       "      <td>NaN</td>\n",
       "      <td>NaN</td>\n",
       "    </tr>\n",
       "    <tr>\n",
       "      <th>1</th>\n",
       "      <td>S301NGZV</td>\n",
       "      <td>ST4000DM000</td>\n",
       "      <td>4000787030016</td>\n",
       "      <td>0</td>\n",
       "      <td>37921224.0</td>\n",
       "      <td>NaN</td>\n",
       "      <td>0.0</td>\n",
       "      <td>19.0</td>\n",
       "      <td>0.0</td>\n",
       "      <td>339757984.0</td>\n",
       "      <td>...</td>\n",
       "      <td>NaN</td>\n",
       "      <td>56133.0</td>\n",
       "      <td>6.690510e+10</td>\n",
       "      <td>1.063485e+12</td>\n",
       "      <td>NaN</td>\n",
       "      <td>NaN</td>\n",
       "      <td>NaN</td>\n",
       "      <td>NaN</td>\n",
       "      <td>NaN</td>\n",
       "      <td>NaN</td>\n",
       "    </tr>\n",
       "    <tr>\n",
       "      <th>2</th>\n",
       "      <td>S3010M7R</td>\n",
       "      <td>ST4000DM000</td>\n",
       "      <td>4000787030016</td>\n",
       "      <td>0</td>\n",
       "      <td>240150664.0</td>\n",
       "      <td>NaN</td>\n",
       "      <td>0.0</td>\n",
       "      <td>19.0</td>\n",
       "      <td>0.0</td>\n",
       "      <td>651676751.0</td>\n",
       "      <td>...</td>\n",
       "      <td>NaN</td>\n",
       "      <td>60024.0</td>\n",
       "      <td>7.388683e+10</td>\n",
       "      <td>4.323190e+11</td>\n",
       "      <td>NaN</td>\n",
       "      <td>NaN</td>\n",
       "      <td>NaN</td>\n",
       "      <td>NaN</td>\n",
       "      <td>NaN</td>\n",
       "      <td>NaN</td>\n",
       "    </tr>\n",
       "    <tr>\n",
       "      <th>3</th>\n",
       "      <td>S3010M7H</td>\n",
       "      <td>ST4000DM000</td>\n",
       "      <td>4000787030016</td>\n",
       "      <td>0</td>\n",
       "      <td>172425960.0</td>\n",
       "      <td>NaN</td>\n",
       "      <td>0.0</td>\n",
       "      <td>26.0</td>\n",
       "      <td>0.0</td>\n",
       "      <td>303794012.0</td>\n",
       "      <td>...</td>\n",
       "      <td>NaN</td>\n",
       "      <td>59081.0</td>\n",
       "      <td>6.617698e+10</td>\n",
       "      <td>3.839506e+11</td>\n",
       "      <td>NaN</td>\n",
       "      <td>NaN</td>\n",
       "      <td>NaN</td>\n",
       "      <td>NaN</td>\n",
       "      <td>NaN</td>\n",
       "      <td>NaN</td>\n",
       "    </tr>\n",
       "    <tr>\n",
       "      <th>4</th>\n",
       "      <td>S3010M7E</td>\n",
       "      <td>ST4000DM000</td>\n",
       "      <td>4000787030016</td>\n",
       "      <td>0</td>\n",
       "      <td>41968136.0</td>\n",
       "      <td>NaN</td>\n",
       "      <td>0.0</td>\n",
       "      <td>19.0</td>\n",
       "      <td>0.0</td>\n",
       "      <td>798267093.0</td>\n",
       "      <td>...</td>\n",
       "      <td>NaN</td>\n",
       "      <td>60006.0</td>\n",
       "      <td>7.435509e+10</td>\n",
       "      <td>4.196393e+11</td>\n",
       "      <td>NaN</td>\n",
       "      <td>NaN</td>\n",
       "      <td>NaN</td>\n",
       "      <td>NaN</td>\n",
       "      <td>NaN</td>\n",
       "      <td>NaN</td>\n",
       "    </tr>\n",
       "  </tbody>\n",
       "</table>\n",
       "<p>5 rows × 79 columns</p>\n",
       "</div>"
      ],
      "text/plain": [
       "  serial_number        model  capacity_bytes  failure  smart_1_raw  \\\n",
       "0      Z305DEMX  ST4000DM000   4000787030016        0   14386032.0   \n",
       "1      S301NGZV  ST4000DM000   4000787030016        0   37921224.0   \n",
       "2      S3010M7R  ST4000DM000   4000787030016        0  240150664.0   \n",
       "3      S3010M7H  ST4000DM000   4000787030016        0  172425960.0   \n",
       "4      S3010M7E  ST4000DM000   4000787030016        0   41968136.0   \n",
       "\n",
       "   smart_2_raw  smart_3_raw  smart_4_raw  smart_5_raw  smart_7_raw  ...  \\\n",
       "0          NaN          0.0         16.0          0.0  312626083.0  ...   \n",
       "1          NaN          0.0         19.0          0.0  339757984.0  ...   \n",
       "2          NaN          0.0         19.0          0.0  651676751.0  ...   \n",
       "3          NaN          0.0         26.0          0.0  303794012.0  ...   \n",
       "4          NaN          0.0         19.0          0.0  798267093.0  ...   \n",
       "\n",
       "   smart_235_raw  smart_240_raw  smart_241_raw  smart_242_raw  smart_244_raw  \\\n",
       "0            NaN        54885.0   6.522921e+10   3.345606e+11            NaN   \n",
       "1            NaN        56133.0   6.690510e+10   1.063485e+12            NaN   \n",
       "2            NaN        60024.0   7.388683e+10   4.323190e+11            NaN   \n",
       "3            NaN        59081.0   6.617698e+10   3.839506e+11            NaN   \n",
       "4            NaN        60006.0   7.435509e+10   4.196393e+11            NaN   \n",
       "\n",
       "   smart_245_raw  smart_246_raw  smart_247_raw  smart_248_raw  smart_254_raw  \n",
       "0            NaN            NaN            NaN            NaN            NaN  \n",
       "1            NaN            NaN            NaN            NaN            NaN  \n",
       "2            NaN            NaN            NaN            NaN            NaN  \n",
       "3            NaN            NaN            NaN            NaN            NaN  \n",
       "4            NaN            NaN            NaN            NaN            NaN  \n",
       "\n",
       "[5 rows x 79 columns]"
      ]
     },
     "execution_count": 18,
     "metadata": {},
     "output_type": "execute_result"
    }
   ],
   "source": [
    "pandas_df.head()"
   ]
  },
  {
   "cell_type": "code",
   "execution_count": 19,
   "metadata": {},
   "outputs": [
    {
     "data": {
      "text/html": [
       "<div>\n",
       "<style scoped>\n",
       "    .dataframe tbody tr th:only-of-type {\n",
       "        vertical-align: middle;\n",
       "    }\n",
       "\n",
       "    .dataframe tbody tr th {\n",
       "        vertical-align: top;\n",
       "    }\n",
       "\n",
       "    .dataframe thead th {\n",
       "        text-align: right;\n",
       "    }\n",
       "</style>\n",
       "<table border=\"1\" class=\"dataframe\">\n",
       "  <thead>\n",
       "    <tr style=\"text-align: right;\">\n",
       "      <th></th>\n",
       "      <th>failure</th>\n",
       "      <th>smart_5_raw</th>\n",
       "      <th>smart_187_raw</th>\n",
       "      <th>smart_188_raw</th>\n",
       "      <th>smart_197_raw</th>\n",
       "      <th>smart_198_raw</th>\n",
       "    </tr>\n",
       "  </thead>\n",
       "  <tbody>\n",
       "    <tr>\n",
       "      <th>0</th>\n",
       "      <td>0</td>\n",
       "      <td>0.0</td>\n",
       "      <td>0.0</td>\n",
       "      <td>0.0</td>\n",
       "      <td>0.0</td>\n",
       "      <td>0.0</td>\n",
       "    </tr>\n",
       "    <tr>\n",
       "      <th>1</th>\n",
       "      <td>0</td>\n",
       "      <td>0.0</td>\n",
       "      <td>0.0</td>\n",
       "      <td>0.0</td>\n",
       "      <td>0.0</td>\n",
       "      <td>0.0</td>\n",
       "    </tr>\n",
       "    <tr>\n",
       "      <th>2</th>\n",
       "      <td>0</td>\n",
       "      <td>0.0</td>\n",
       "      <td>0.0</td>\n",
       "      <td>0.0</td>\n",
       "      <td>0.0</td>\n",
       "      <td>0.0</td>\n",
       "    </tr>\n",
       "    <tr>\n",
       "      <th>3</th>\n",
       "      <td>0</td>\n",
       "      <td>0.0</td>\n",
       "      <td>1.0</td>\n",
       "      <td>0.0</td>\n",
       "      <td>0.0</td>\n",
       "      <td>0.0</td>\n",
       "    </tr>\n",
       "    <tr>\n",
       "      <th>4</th>\n",
       "      <td>0</td>\n",
       "      <td>0.0</td>\n",
       "      <td>0.0</td>\n",
       "      <td>0.0</td>\n",
       "      <td>0.0</td>\n",
       "      <td>0.0</td>\n",
       "    </tr>\n",
       "  </tbody>\n",
       "</table>\n",
       "</div>"
      ],
      "text/plain": [
       "   failure  smart_5_raw  smart_187_raw  smart_188_raw  smart_197_raw  \\\n",
       "0        0          0.0            0.0            0.0            0.0   \n",
       "1        0          0.0            0.0            0.0            0.0   \n",
       "2        0          0.0            0.0            0.0            0.0   \n",
       "3        0          0.0            1.0            0.0            0.0   \n",
       "4        0          0.0            0.0            0.0            0.0   \n",
       "\n",
       "   smart_198_raw  \n",
       "0            0.0  \n",
       "1            0.0  \n",
       "2            0.0  \n",
       "3            0.0  \n",
       "4            0.0  "
      ]
     },
     "execution_count": 19,
     "metadata": {},
     "output_type": "execute_result"
    }
   ],
   "source": [
    "pandas_df_b.head()"
   ]
  },
  {
   "cell_type": "code",
   "execution_count": 20,
   "metadata": {},
   "outputs": [
    {
     "data": {
      "text/plain": [
       "serial_number      object\n",
       "model              object\n",
       "capacity_bytes      int64\n",
       "failure             int32\n",
       "smart_1_raw       float64\n",
       "                   ...   \n",
       "smart_245_raw     float64\n",
       "smart_246_raw     float64\n",
       "smart_247_raw     float64\n",
       "smart_248_raw     float64\n",
       "smart_254_raw     float64\n",
       "Length: 79, dtype: object"
      ]
     },
     "execution_count": 20,
     "metadata": {},
     "output_type": "execute_result"
    }
   ],
   "source": [
    "pandas_df.dtypes"
   ]
  },
  {
   "cell_type": "code",
   "execution_count": 21,
   "metadata": {},
   "outputs": [
    {
     "data": {
      "text/html": [
       "<div>\n",
       "<style scoped>\n",
       "    .dataframe tbody tr th:only-of-type {\n",
       "        vertical-align: middle;\n",
       "    }\n",
       "\n",
       "    .dataframe tbody tr th {\n",
       "        vertical-align: top;\n",
       "    }\n",
       "\n",
       "    .dataframe thead th {\n",
       "        text-align: right;\n",
       "    }\n",
       "</style>\n",
       "<table border=\"1\" class=\"dataframe\">\n",
       "  <thead>\n",
       "    <tr style=\"text-align: right;\">\n",
       "      <th></th>\n",
       "      <th>failure</th>\n",
       "      <th>smart_1_raw</th>\n",
       "      <th>smart_2_raw</th>\n",
       "      <th>smart_3_raw</th>\n",
       "      <th>smart_4_raw</th>\n",
       "      <th>smart_5_raw</th>\n",
       "      <th>smart_7_raw</th>\n",
       "      <th>smart_8_raw</th>\n",
       "      <th>smart_9_raw</th>\n",
       "      <th>smart_10_raw</th>\n",
       "      <th>...</th>\n",
       "      <th>smart_235_raw</th>\n",
       "      <th>smart_240_raw</th>\n",
       "      <th>smart_241_raw</th>\n",
       "      <th>smart_242_raw</th>\n",
       "      <th>smart_244_raw</th>\n",
       "      <th>smart_245_raw</th>\n",
       "      <th>smart_246_raw</th>\n",
       "      <th>smart_247_raw</th>\n",
       "      <th>smart_248_raw</th>\n",
       "      <th>smart_254_raw</th>\n",
       "    </tr>\n",
       "  </thead>\n",
       "  <tbody>\n",
       "    <tr>\n",
       "      <th>0</th>\n",
       "      <td>0</td>\n",
       "      <td>14386032.0</td>\n",
       "      <td>NaN</td>\n",
       "      <td>0.0</td>\n",
       "      <td>16.0</td>\n",
       "      <td>0.0</td>\n",
       "      <td>312626083.0</td>\n",
       "      <td>NaN</td>\n",
       "      <td>55292.0</td>\n",
       "      <td>0.0</td>\n",
       "      <td>...</td>\n",
       "      <td>NaN</td>\n",
       "      <td>54885.0</td>\n",
       "      <td>6.522921e+10</td>\n",
       "      <td>3.345606e+11</td>\n",
       "      <td>NaN</td>\n",
       "      <td>NaN</td>\n",
       "      <td>NaN</td>\n",
       "      <td>NaN</td>\n",
       "      <td>NaN</td>\n",
       "      <td>NaN</td>\n",
       "    </tr>\n",
       "    <tr>\n",
       "      <th>1</th>\n",
       "      <td>0</td>\n",
       "      <td>37921224.0</td>\n",
       "      <td>NaN</td>\n",
       "      <td>0.0</td>\n",
       "      <td>19.0</td>\n",
       "      <td>0.0</td>\n",
       "      <td>339757984.0</td>\n",
       "      <td>NaN</td>\n",
       "      <td>56267.0</td>\n",
       "      <td>0.0</td>\n",
       "      <td>...</td>\n",
       "      <td>NaN</td>\n",
       "      <td>56133.0</td>\n",
       "      <td>6.690510e+10</td>\n",
       "      <td>1.063485e+12</td>\n",
       "      <td>NaN</td>\n",
       "      <td>NaN</td>\n",
       "      <td>NaN</td>\n",
       "      <td>NaN</td>\n",
       "      <td>NaN</td>\n",
       "      <td>NaN</td>\n",
       "    </tr>\n",
       "    <tr>\n",
       "      <th>2</th>\n",
       "      <td>0</td>\n",
       "      <td>240150664.0</td>\n",
       "      <td>NaN</td>\n",
       "      <td>0.0</td>\n",
       "      <td>19.0</td>\n",
       "      <td>0.0</td>\n",
       "      <td>651676751.0</td>\n",
       "      <td>NaN</td>\n",
       "      <td>60237.0</td>\n",
       "      <td>0.0</td>\n",
       "      <td>...</td>\n",
       "      <td>NaN</td>\n",
       "      <td>60024.0</td>\n",
       "      <td>7.388683e+10</td>\n",
       "      <td>4.323190e+11</td>\n",
       "      <td>NaN</td>\n",
       "      <td>NaN</td>\n",
       "      <td>NaN</td>\n",
       "      <td>NaN</td>\n",
       "      <td>NaN</td>\n",
       "      <td>NaN</td>\n",
       "    </tr>\n",
       "    <tr>\n",
       "      <th>3</th>\n",
       "      <td>0</td>\n",
       "      <td>172425960.0</td>\n",
       "      <td>NaN</td>\n",
       "      <td>0.0</td>\n",
       "      <td>26.0</td>\n",
       "      <td>0.0</td>\n",
       "      <td>303794012.0</td>\n",
       "      <td>NaN</td>\n",
       "      <td>59929.0</td>\n",
       "      <td>0.0</td>\n",
       "      <td>...</td>\n",
       "      <td>NaN</td>\n",
       "      <td>59081.0</td>\n",
       "      <td>6.617698e+10</td>\n",
       "      <td>3.839506e+11</td>\n",
       "      <td>NaN</td>\n",
       "      <td>NaN</td>\n",
       "      <td>NaN</td>\n",
       "      <td>NaN</td>\n",
       "      <td>NaN</td>\n",
       "      <td>NaN</td>\n",
       "    </tr>\n",
       "    <tr>\n",
       "      <th>4</th>\n",
       "      <td>0</td>\n",
       "      <td>41968136.0</td>\n",
       "      <td>NaN</td>\n",
       "      <td>0.0</td>\n",
       "      <td>19.0</td>\n",
       "      <td>0.0</td>\n",
       "      <td>798267093.0</td>\n",
       "      <td>NaN</td>\n",
       "      <td>60243.0</td>\n",
       "      <td>0.0</td>\n",
       "      <td>...</td>\n",
       "      <td>NaN</td>\n",
       "      <td>60006.0</td>\n",
       "      <td>7.435509e+10</td>\n",
       "      <td>4.196393e+11</td>\n",
       "      <td>NaN</td>\n",
       "      <td>NaN</td>\n",
       "      <td>NaN</td>\n",
       "      <td>NaN</td>\n",
       "      <td>NaN</td>\n",
       "      <td>NaN</td>\n",
       "    </tr>\n",
       "  </tbody>\n",
       "</table>\n",
       "<p>5 rows × 76 columns</p>\n",
       "</div>"
      ],
      "text/plain": [
       "   failure  smart_1_raw  smart_2_raw  smart_3_raw  smart_4_raw  smart_5_raw  \\\n",
       "0        0   14386032.0          NaN          0.0         16.0          0.0   \n",
       "1        0   37921224.0          NaN          0.0         19.0          0.0   \n",
       "2        0  240150664.0          NaN          0.0         19.0          0.0   \n",
       "3        0  172425960.0          NaN          0.0         26.0          0.0   \n",
       "4        0   41968136.0          NaN          0.0         19.0          0.0   \n",
       "\n",
       "   smart_7_raw  smart_8_raw  smart_9_raw  smart_10_raw  ...  smart_235_raw  \\\n",
       "0  312626083.0          NaN      55292.0           0.0  ...            NaN   \n",
       "1  339757984.0          NaN      56267.0           0.0  ...            NaN   \n",
       "2  651676751.0          NaN      60237.0           0.0  ...            NaN   \n",
       "3  303794012.0          NaN      59929.0           0.0  ...            NaN   \n",
       "4  798267093.0          NaN      60243.0           0.0  ...            NaN   \n",
       "\n",
       "   smart_240_raw  smart_241_raw  smart_242_raw  smart_244_raw  smart_245_raw  \\\n",
       "0        54885.0   6.522921e+10   3.345606e+11            NaN            NaN   \n",
       "1        56133.0   6.690510e+10   1.063485e+12            NaN            NaN   \n",
       "2        60024.0   7.388683e+10   4.323190e+11            NaN            NaN   \n",
       "3        59081.0   6.617698e+10   3.839506e+11            NaN            NaN   \n",
       "4        60006.0   7.435509e+10   4.196393e+11            NaN            NaN   \n",
       "\n",
       "   smart_246_raw  smart_247_raw  smart_248_raw  smart_254_raw  \n",
       "0            NaN            NaN            NaN            NaN  \n",
       "1            NaN            NaN            NaN            NaN  \n",
       "2            NaN            NaN            NaN            NaN  \n",
       "3            NaN            NaN            NaN            NaN  \n",
       "4            NaN            NaN            NaN            NaN  \n",
       "\n",
       "[5 rows x 76 columns]"
      ]
     },
     "execution_count": 21,
     "metadata": {},
     "output_type": "execute_result"
    }
   ],
   "source": [
    "pandas_df = pandas_df.drop([\"serial_number\", \"model\", \"capacity_bytes\"], axis=1)\n",
    "pandas_df.head()"
   ]
  },
  {
   "cell_type": "code",
   "execution_count": 22,
   "metadata": {},
   "outputs": [
    {
     "data": {
      "text/html": [
       "<div>\n",
       "<style scoped>\n",
       "    .dataframe tbody tr th:only-of-type {\n",
       "        vertical-align: middle;\n",
       "    }\n",
       "\n",
       "    .dataframe tbody tr th {\n",
       "        vertical-align: top;\n",
       "    }\n",
       "\n",
       "    .dataframe thead th {\n",
       "        text-align: right;\n",
       "    }\n",
       "</style>\n",
       "<table border=\"1\" class=\"dataframe\">\n",
       "  <thead>\n",
       "    <tr style=\"text-align: right;\">\n",
       "      <th></th>\n",
       "      <th>failure</th>\n",
       "      <th>smart_1_raw</th>\n",
       "      <th>smart_2_raw</th>\n",
       "      <th>smart_3_raw</th>\n",
       "      <th>smart_4_raw</th>\n",
       "      <th>smart_5_raw</th>\n",
       "      <th>smart_7_raw</th>\n",
       "      <th>smart_8_raw</th>\n",
       "      <th>smart_9_raw</th>\n",
       "      <th>smart_10_raw</th>\n",
       "      <th>...</th>\n",
       "      <th>smart_235_raw</th>\n",
       "      <th>smart_240_raw</th>\n",
       "      <th>smart_241_raw</th>\n",
       "      <th>smart_242_raw</th>\n",
       "      <th>smart_244_raw</th>\n",
       "      <th>smart_245_raw</th>\n",
       "      <th>smart_246_raw</th>\n",
       "      <th>smart_247_raw</th>\n",
       "      <th>smart_248_raw</th>\n",
       "      <th>smart_254_raw</th>\n",
       "    </tr>\n",
       "  </thead>\n",
       "  <tbody>\n",
       "    <tr>\n",
       "      <th>0</th>\n",
       "      <td>0</td>\n",
       "      <td>14386032.0</td>\n",
       "      <td>0.0</td>\n",
       "      <td>0.0</td>\n",
       "      <td>16.0</td>\n",
       "      <td>0.0</td>\n",
       "      <td>312626083.0</td>\n",
       "      <td>0.0</td>\n",
       "      <td>55292.0</td>\n",
       "      <td>0.0</td>\n",
       "      <td>...</td>\n",
       "      <td>0.0</td>\n",
       "      <td>54885.0</td>\n",
       "      <td>6.522921e+10</td>\n",
       "      <td>3.345606e+11</td>\n",
       "      <td>0.0</td>\n",
       "      <td>0.0</td>\n",
       "      <td>0.0</td>\n",
       "      <td>0.0</td>\n",
       "      <td>0.0</td>\n",
       "      <td>0.0</td>\n",
       "    </tr>\n",
       "    <tr>\n",
       "      <th>1</th>\n",
       "      <td>0</td>\n",
       "      <td>37921224.0</td>\n",
       "      <td>0.0</td>\n",
       "      <td>0.0</td>\n",
       "      <td>19.0</td>\n",
       "      <td>0.0</td>\n",
       "      <td>339757984.0</td>\n",
       "      <td>0.0</td>\n",
       "      <td>56267.0</td>\n",
       "      <td>0.0</td>\n",
       "      <td>...</td>\n",
       "      <td>0.0</td>\n",
       "      <td>56133.0</td>\n",
       "      <td>6.690510e+10</td>\n",
       "      <td>1.063485e+12</td>\n",
       "      <td>0.0</td>\n",
       "      <td>0.0</td>\n",
       "      <td>0.0</td>\n",
       "      <td>0.0</td>\n",
       "      <td>0.0</td>\n",
       "      <td>0.0</td>\n",
       "    </tr>\n",
       "    <tr>\n",
       "      <th>2</th>\n",
       "      <td>0</td>\n",
       "      <td>240150664.0</td>\n",
       "      <td>0.0</td>\n",
       "      <td>0.0</td>\n",
       "      <td>19.0</td>\n",
       "      <td>0.0</td>\n",
       "      <td>651676751.0</td>\n",
       "      <td>0.0</td>\n",
       "      <td>60237.0</td>\n",
       "      <td>0.0</td>\n",
       "      <td>...</td>\n",
       "      <td>0.0</td>\n",
       "      <td>60024.0</td>\n",
       "      <td>7.388683e+10</td>\n",
       "      <td>4.323190e+11</td>\n",
       "      <td>0.0</td>\n",
       "      <td>0.0</td>\n",
       "      <td>0.0</td>\n",
       "      <td>0.0</td>\n",
       "      <td>0.0</td>\n",
       "      <td>0.0</td>\n",
       "    </tr>\n",
       "    <tr>\n",
       "      <th>3</th>\n",
       "      <td>0</td>\n",
       "      <td>172425960.0</td>\n",
       "      <td>0.0</td>\n",
       "      <td>0.0</td>\n",
       "      <td>26.0</td>\n",
       "      <td>0.0</td>\n",
       "      <td>303794012.0</td>\n",
       "      <td>0.0</td>\n",
       "      <td>59929.0</td>\n",
       "      <td>0.0</td>\n",
       "      <td>...</td>\n",
       "      <td>0.0</td>\n",
       "      <td>59081.0</td>\n",
       "      <td>6.617698e+10</td>\n",
       "      <td>3.839506e+11</td>\n",
       "      <td>0.0</td>\n",
       "      <td>0.0</td>\n",
       "      <td>0.0</td>\n",
       "      <td>0.0</td>\n",
       "      <td>0.0</td>\n",
       "      <td>0.0</td>\n",
       "    </tr>\n",
       "    <tr>\n",
       "      <th>4</th>\n",
       "      <td>0</td>\n",
       "      <td>41968136.0</td>\n",
       "      <td>0.0</td>\n",
       "      <td>0.0</td>\n",
       "      <td>19.0</td>\n",
       "      <td>0.0</td>\n",
       "      <td>798267093.0</td>\n",
       "      <td>0.0</td>\n",
       "      <td>60243.0</td>\n",
       "      <td>0.0</td>\n",
       "      <td>...</td>\n",
       "      <td>0.0</td>\n",
       "      <td>60006.0</td>\n",
       "      <td>7.435509e+10</td>\n",
       "      <td>4.196393e+11</td>\n",
       "      <td>0.0</td>\n",
       "      <td>0.0</td>\n",
       "      <td>0.0</td>\n",
       "      <td>0.0</td>\n",
       "      <td>0.0</td>\n",
       "      <td>0.0</td>\n",
       "    </tr>\n",
       "  </tbody>\n",
       "</table>\n",
       "<p>5 rows × 76 columns</p>\n",
       "</div>"
      ],
      "text/plain": [
       "   failure  smart_1_raw  smart_2_raw  smart_3_raw  smart_4_raw  smart_5_raw  \\\n",
       "0        0   14386032.0          0.0          0.0         16.0          0.0   \n",
       "1        0   37921224.0          0.0          0.0         19.0          0.0   \n",
       "2        0  240150664.0          0.0          0.0         19.0          0.0   \n",
       "3        0  172425960.0          0.0          0.0         26.0          0.0   \n",
       "4        0   41968136.0          0.0          0.0         19.0          0.0   \n",
       "\n",
       "   smart_7_raw  smart_8_raw  smart_9_raw  smart_10_raw  ...  smart_235_raw  \\\n",
       "0  312626083.0          0.0      55292.0           0.0  ...            0.0   \n",
       "1  339757984.0          0.0      56267.0           0.0  ...            0.0   \n",
       "2  651676751.0          0.0      60237.0           0.0  ...            0.0   \n",
       "3  303794012.0          0.0      59929.0           0.0  ...            0.0   \n",
       "4  798267093.0          0.0      60243.0           0.0  ...            0.0   \n",
       "\n",
       "   smart_240_raw  smart_241_raw  smart_242_raw  smart_244_raw  smart_245_raw  \\\n",
       "0        54885.0   6.522921e+10   3.345606e+11            0.0            0.0   \n",
       "1        56133.0   6.690510e+10   1.063485e+12            0.0            0.0   \n",
       "2        60024.0   7.388683e+10   4.323190e+11            0.0            0.0   \n",
       "3        59081.0   6.617698e+10   3.839506e+11            0.0            0.0   \n",
       "4        60006.0   7.435509e+10   4.196393e+11            0.0            0.0   \n",
       "\n",
       "   smart_246_raw  smart_247_raw  smart_248_raw  smart_254_raw  \n",
       "0            0.0            0.0            0.0            0.0  \n",
       "1            0.0            0.0            0.0            0.0  \n",
       "2            0.0            0.0            0.0            0.0  \n",
       "3            0.0            0.0            0.0            0.0  \n",
       "4            0.0            0.0            0.0            0.0  \n",
       "\n",
       "[5 rows x 76 columns]"
      ]
     },
     "execution_count": 22,
     "metadata": {},
     "output_type": "execute_result"
    }
   ],
   "source": [
    "pandas_df = pandas_df.fillna(0)\n",
    "pandas_df.head()"
   ]
  },
  {
   "cell_type": "code",
   "execution_count": 26,
   "metadata": {},
   "outputs": [
    {
     "data": {
      "text/html": [
       "<div>\n",
       "<style scoped>\n",
       "    .dataframe tbody tr th:only-of-type {\n",
       "        vertical-align: middle;\n",
       "    }\n",
       "\n",
       "    .dataframe tbody tr th {\n",
       "        vertical-align: top;\n",
       "    }\n",
       "\n",
       "    .dataframe thead th {\n",
       "        text-align: right;\n",
       "    }\n",
       "</style>\n",
       "<table border=\"1\" class=\"dataframe\">\n",
       "  <thead>\n",
       "    <tr style=\"text-align: right;\">\n",
       "      <th></th>\n",
       "      <th>failure</th>\n",
       "      <th>smart_5_raw</th>\n",
       "      <th>smart_187_raw</th>\n",
       "      <th>smart_188_raw</th>\n",
       "      <th>smart_197_raw</th>\n",
       "      <th>smart_198_raw</th>\n",
       "    </tr>\n",
       "  </thead>\n",
       "  <tbody>\n",
       "    <tr>\n",
       "      <th>0</th>\n",
       "      <td>0</td>\n",
       "      <td>0.0</td>\n",
       "      <td>0.0</td>\n",
       "      <td>0.0</td>\n",
       "      <td>0.0</td>\n",
       "      <td>0.0</td>\n",
       "    </tr>\n",
       "    <tr>\n",
       "      <th>1</th>\n",
       "      <td>0</td>\n",
       "      <td>0.0</td>\n",
       "      <td>0.0</td>\n",
       "      <td>0.0</td>\n",
       "      <td>0.0</td>\n",
       "      <td>0.0</td>\n",
       "    </tr>\n",
       "    <tr>\n",
       "      <th>2</th>\n",
       "      <td>0</td>\n",
       "      <td>0.0</td>\n",
       "      <td>0.0</td>\n",
       "      <td>0.0</td>\n",
       "      <td>0.0</td>\n",
       "      <td>0.0</td>\n",
       "    </tr>\n",
       "    <tr>\n",
       "      <th>3</th>\n",
       "      <td>0</td>\n",
       "      <td>0.0</td>\n",
       "      <td>1.0</td>\n",
       "      <td>0.0</td>\n",
       "      <td>0.0</td>\n",
       "      <td>0.0</td>\n",
       "    </tr>\n",
       "    <tr>\n",
       "      <th>4</th>\n",
       "      <td>0</td>\n",
       "      <td>0.0</td>\n",
       "      <td>0.0</td>\n",
       "      <td>0.0</td>\n",
       "      <td>0.0</td>\n",
       "      <td>0.0</td>\n",
       "    </tr>\n",
       "  </tbody>\n",
       "</table>\n",
       "</div>"
      ],
      "text/plain": [
       "   failure  smart_5_raw  smart_187_raw  smart_188_raw  smart_197_raw  \\\n",
       "0        0          0.0            0.0            0.0            0.0   \n",
       "1        0          0.0            0.0            0.0            0.0   \n",
       "2        0          0.0            0.0            0.0            0.0   \n",
       "3        0          0.0            1.0            0.0            0.0   \n",
       "4        0          0.0            0.0            0.0            0.0   \n",
       "\n",
       "   smart_198_raw  \n",
       "0            0.0  \n",
       "1            0.0  \n",
       "2            0.0  \n",
       "3            0.0  \n",
       "4            0.0  "
      ]
     },
     "execution_count": 26,
     "metadata": {},
     "output_type": "execute_result"
    }
   ],
   "source": [
    "pandas_df_b = pandas_df_b.fillna(0)\n",
    "pandas_df_b.head()"
   ]
  },
  {
   "cell_type": "code",
   "execution_count": 27,
   "metadata": {
    "colab": {
     "base_uri": "https://localhost:8080/",
     "height": 187
    },
    "id": "lS0xEoRudoue",
    "outputId": "2b87295b-c93b-462c-bbef-03f63c299335"
   },
   "outputs": [],
   "source": [
    "X = pandas_df.drop('failure', axis=1).values\n",
    "y = pandas_df['failure'].values\n",
    "X_b = pandas_df_b.drop('failure', axis=1).values\n",
    "y_b = pandas_df_b['failure'].values"
   ]
  },
  {
   "cell_type": "code",
   "execution_count": 28,
   "metadata": {},
   "outputs": [],
   "source": [
    "from imblearn.ensemble import BalancedRandomForestClassifier\n",
    "from sklearn.pipeline import Pipeline\n",
    "from sklearn.impute import SimpleImputer\n",
    "from sklearn.model_selection import cross_validate\n",
    "from sklearn.preprocessing import MaxAbsScaler\n",
    "from sklearn.utils.parallel import delayed\n",
    "from sklearn.metrics import make_scorer\n",
    "from imblearn.metrics import geometric_mean_score\n",
    "from sklearn.metrics import confusion_matrix\n",
    "from sklearn.metrics import roc_auc_score, balanced_accuracy_score, f1_score, precision_score, recall_score, accuracy_score, confusion_matrix\n",
    "\n",
    "\n",
    "def fdr_score(y_true, y_pred):\n",
    "    tn, fp, fn, tp = confusion_matrix(y_true, y_pred).ravel()\n",
    "    fdr = tp / (tp + fn)\n",
    "    return fdr\n",
    "\n",
    "def far_score(y_true, y_pred):\n",
    "    tn, fp, fn, tp = confusion_matrix(y_true, y_pred).ravel()\n",
    "    far = fp / (fp + tn)\n",
    "    return far\n",
    "    \n",
    "\n",
    "\n",
    "scoring = {'precision': 'precision','gmean': make_scorer(geometric_mean_score),'f1': 'f1' , 'recall':'recall', 'fdr': make_scorer(fdr_score), 'far': make_scorer(far_score)}"
   ]
  },
  {
   "cell_type": "code",
   "execution_count": 24,
   "metadata": {},
   "outputs": [
    {
     "name": "stdout",
     "output_type": "stream",
     "text": [
      "Mean G-mean: 0.887 (+/- 0.040)\n",
      "F1:  0.002895544189544485\n",
      "Precision:  0.0014503493212233791\n",
      "FDR:  0.8217391304347826\n",
      "FAR : 0.03981971957646102\n",
      "Recall:  0.8217391304347826\n",
      "CPU times: user 3min 2s, sys: 14.6 s, total: 3min 16s\n",
      "Wall time: 3min 18s\n"
     ]
    }
   ],
   "source": [
    "%%time\n",
    "\n",
    "#cv = 5 and all features\n",
    "pipeline = Pipeline([\n",
    "    ('imputer', SimpleImputer(strategy='constant',fill_value= 0)),\n",
    "    ('scaler', MaxAbsScaler()),\n",
    "    ('classifier', BalancedRandomForestClassifier(random_state=42))\n",
    "])\n",
    "\n",
    "# evaluate the pipeline using cross-validation with G-mean\n",
    "BRF_scores = cross_validate(pipeline, X, y, cv=5, scoring=scoring)\n",
    "# print the mean G-mean score and standard deviation\n",
    "print(\"Mean G-mean: {:.3f} (+/- {:.3f})\".format(BRF_scores['test_gmean'].mean(), BRF_scores['test_gmean'].std()))\n",
    "print(\"F1: \", BRF_scores['test_f1'].mean())\n",
    "print(\"Precision: \", BRF_scores['test_precision'].mean())\n",
    "print(\"FDR: \", BRF_scores['test_fdr'].mean())\n",
    "print(\"FAR :\", BRF_scores['test_far'].mean())\n",
    "print(\"Recall: \", BRF_scores['test_recall'].mean())"
   ]
  },
  {
   "cell_type": "code",
   "execution_count": 25,
   "metadata": {},
   "outputs": [
    {
     "name": "stdout",
     "output_type": "stream",
     "text": [
      "Mean G-mean: 0.907 (+/- 0.032)\n",
      "F1:  0.0021760452620553394\n",
      "Precision:  0.0010893908036328937\n",
      "FDR:  0.8728260869565216\n",
      "FAR : 0.05609125755276646\n",
      "Recall:  0.8728260869565216\n",
      "CPU times: user 2min 40s, sys: 7.79 s, total: 2min 48s\n",
      "Wall time: 2min 48s\n"
     ]
    }
   ],
   "source": [
    "%%time\n",
    "#Pipeline with 5 features\n",
    "BRF_scores_b = cross_validate(pipeline, X_b, y_b, cv=5, scoring=scoring)\n",
    "\n",
    "# print the mean G-mean score and standard deviation\n",
    "print(\"Mean G-mean: {:.3f} (+/- {:.3f})\".format(BRF_scores_b['test_gmean'].mean(), BRF_scores_b['test_gmean'].std()))\n",
    "print(\"F1: \", BRF_scores_b['test_f1'].mean())\n",
    "print(\"Precision: \", BRF_scores_b['test_precision'].mean())\n",
    "print(\"FDR: \", BRF_scores_b['test_fdr'].mean())\n",
    "print(\"FAR :\", BRF_scores_b['test_far'].mean())\n",
    "print(\"Recall: \", BRF_scores_b['test_recall'].mean())"
   ]
  },
  {
   "cell_type": "markdown",
   "metadata": {},
   "source": [
    "#Random Forest"
   ]
  },
  {
   "cell_type": "code",
   "execution_count": 26,
   "metadata": {},
   "outputs": [
    {
     "name": "stderr",
     "output_type": "stream",
     "text": [
      "[Parallel(n_jobs=8)]: Using backend LokyBackend with 8 concurrent workers.\n",
      "[Parallel(n_jobs=8)]: Done  25 tasks      | elapsed:   14.5s\n",
      "[Parallel(n_jobs=8)]: Done 100 out of 100 | elapsed:   47.0s finished\n",
      "[Parallel(n_jobs=8)]: Using backend ThreadingBackend with 8 concurrent workers.\n",
      "[Parallel(n_jobs=8)]: Done  25 tasks      | elapsed:    0.1s\n",
      "[Parallel(n_jobs=8)]: Done 100 out of 100 | elapsed:    0.4s finished\n",
      "[Parallel(n_jobs=8)]: Using backend LokyBackend with 8 concurrent workers.\n",
      "[Parallel(n_jobs=8)]: Done  25 tasks      | elapsed:   13.7s\n",
      "[Parallel(n_jobs=8)]: Done 100 out of 100 | elapsed:   46.6s finished\n",
      "[Parallel(n_jobs=8)]: Using backend ThreadingBackend with 8 concurrent workers.\n",
      "[Parallel(n_jobs=8)]: Done  25 tasks      | elapsed:    0.1s\n",
      "[Parallel(n_jobs=8)]: Done 100 out of 100 | elapsed:    0.4s finished\n",
      "[Parallel(n_jobs=8)]: Using backend LokyBackend with 8 concurrent workers.\n",
      "[Parallel(n_jobs=8)]: Done  25 tasks      | elapsed:   15.7s\n",
      "[Parallel(n_jobs=8)]: Done 100 out of 100 | elapsed:   51.2s finished\n",
      "[Parallel(n_jobs=8)]: Using backend ThreadingBackend with 8 concurrent workers.\n",
      "[Parallel(n_jobs=8)]: Done  25 tasks      | elapsed:    0.1s\n",
      "[Parallel(n_jobs=8)]: Done 100 out of 100 | elapsed:    0.4s finished\n",
      "[Parallel(n_jobs=8)]: Using backend LokyBackend with 8 concurrent workers.\n",
      "[Parallel(n_jobs=8)]: Done  25 tasks      | elapsed:   12.7s\n",
      "[Parallel(n_jobs=8)]: Done 100 out of 100 | elapsed:   44.0s finished\n",
      "[Parallel(n_jobs=8)]: Using backend ThreadingBackend with 8 concurrent workers.\n",
      "[Parallel(n_jobs=8)]: Done  25 tasks      | elapsed:    0.1s\n",
      "[Parallel(n_jobs=8)]: Done 100 out of 100 | elapsed:    0.4s finished\n",
      "[Parallel(n_jobs=8)]: Using backend LokyBackend with 8 concurrent workers.\n",
      "[Parallel(n_jobs=8)]: Done  25 tasks      | elapsed:   12.8s\n",
      "[Parallel(n_jobs=8)]: Done 100 out of 100 | elapsed:   43.5s finished\n",
      "[Parallel(n_jobs=8)]: Using backend ThreadingBackend with 8 concurrent workers.\n",
      "[Parallel(n_jobs=8)]: Done  25 tasks      | elapsed:    0.1s\n",
      "[Parallel(n_jobs=8)]: Done 100 out of 100 | elapsed:    0.4s finished\n"
     ]
    },
    {
     "name": "stdout",
     "output_type": "stream",
     "text": [
      "Mean G-mean: 0.000 (+/- 0.000)\n",
      "F1:  0.0\n",
      "Precision:  0.0\n",
      "FDR:  0.0\n",
      "FAR : 4.789621488946221e-06\n",
      "Recall:  0.0\n",
      "CPU times: user 19.1 s, sys: 7.73 s, total: 26.8 s\n",
      "Wall time: 4min 9s\n"
     ]
    }
   ],
   "source": [
    "%%time\n",
    "#cv = 5 and Random forest and all features\n",
    "from sklearn.ensemble import RandomForestClassifier\n",
    "RF_pipeline =  Pipeline([(\"impute\", SimpleImputer(strategy='constant',fill_value= 0)),(\"scale\", MaxAbsScaler()),(\"RF\",RandomForestClassifier(verbose=2, n_jobs=8))])\n",
    "RF_scores = cross_validate(RF_pipeline, X, y, cv=5, scoring=scoring)\n",
    "sorted(RF_scores.keys())\n",
    "# print the mean G-mean score and standard deviation\n",
    "print(\"Mean G-mean: {:.3f} (+/- {:.3f})\".format(RF_scores['test_gmean'].mean(), RF_scores['test_gmean'].std()))\n",
    "print(\"F1: \", RF_scores['test_f1'].mean())\n",
    "print(\"Precision: \", RF_scores['test_precision'].mean())\n",
    "print(\"FDR: \", RF_scores['test_fdr'].mean())\n",
    "print(\"FAR :\", RF_scores['test_far'].mean())\n",
    "print(\"Recall: \", RF_scores['test_recall'].mean())"
   ]
  },
  {
   "cell_type": "code",
   "execution_count": 28,
   "metadata": {},
   "outputs": [
    {
     "name": "stderr",
     "output_type": "stream",
     "text": [
      "[Parallel(n_jobs=8)]: Using backend LokyBackend with 8 concurrent workers.\n",
      "[Parallel(n_jobs=8)]: Done  25 tasks      | elapsed:    2.0s\n",
      "[Parallel(n_jobs=8)]: Done 100 out of 100 | elapsed:    6.5s finished\n",
      "[Parallel(n_jobs=8)]: Using backend ThreadingBackend with 8 concurrent workers.\n",
      "[Parallel(n_jobs=8)]: Done  25 tasks      | elapsed:    0.1s\n",
      "[Parallel(n_jobs=8)]: Done 100 out of 100 | elapsed:    0.2s finished\n",
      "[Parallel(n_jobs=8)]: Using backend LokyBackend with 8 concurrent workers.\n",
      "[Parallel(n_jobs=8)]: Done  25 tasks      | elapsed:    2.0s\n",
      "[Parallel(n_jobs=8)]: Done 100 out of 100 | elapsed:    6.4s finished\n",
      "[Parallel(n_jobs=8)]: Using backend ThreadingBackend with 8 concurrent workers.\n",
      "[Parallel(n_jobs=8)]: Done  25 tasks      | elapsed:    0.1s\n",
      "[Parallel(n_jobs=8)]: Done 100 out of 100 | elapsed:    0.3s finished\n",
      "[Parallel(n_jobs=8)]: Using backend LokyBackend with 8 concurrent workers.\n",
      "[Parallel(n_jobs=8)]: Done  25 tasks      | elapsed:    2.0s\n",
      "[Parallel(n_jobs=8)]: Done 100 out of 100 | elapsed:    6.9s finished\n",
      "[Parallel(n_jobs=8)]: Using backend ThreadingBackend with 8 concurrent workers.\n",
      "[Parallel(n_jobs=8)]: Done  25 tasks      | elapsed:    0.1s\n",
      "[Parallel(n_jobs=8)]: Done 100 out of 100 | elapsed:    0.3s finished\n",
      "[Parallel(n_jobs=8)]: Using backend LokyBackend with 8 concurrent workers.\n",
      "[Parallel(n_jobs=8)]: Done  25 tasks      | elapsed:    2.0s\n",
      "[Parallel(n_jobs=8)]: Done 100 out of 100 | elapsed:    6.9s finished\n",
      "[Parallel(n_jobs=8)]: Using backend ThreadingBackend with 8 concurrent workers.\n",
      "[Parallel(n_jobs=8)]: Done  25 tasks      | elapsed:    0.1s\n",
      "[Parallel(n_jobs=8)]: Done 100 out of 100 | elapsed:    0.3s finished\n",
      "[Parallel(n_jobs=8)]: Using backend LokyBackend with 8 concurrent workers.\n",
      "[Parallel(n_jobs=8)]: Done  25 tasks      | elapsed:    2.0s\n",
      "[Parallel(n_jobs=8)]: Done 100 out of 100 | elapsed:    6.7s finished\n",
      "[Parallel(n_jobs=8)]: Using backend ThreadingBackend with 8 concurrent workers.\n",
      "[Parallel(n_jobs=8)]: Done  25 tasks      | elapsed:    0.1s\n",
      "[Parallel(n_jobs=8)]: Done 100 out of 100 | elapsed:    0.3s finished\n"
     ]
    },
    {
     "name": "stdout",
     "output_type": "stream",
     "text": [
      "Mean G-mean: 0.101 (+/- 0.126)\n",
      "F1:  0.0419047619047619\n",
      "Precision:  0.10857142857142858\n",
      "FDR:  0.02608695652173913\n",
      "FAR : 1.4967552143065255e-05\n",
      "Recall:  0.02608695652173913\n",
      "CPU times: user 10.1 s, sys: 1.54 s, total: 11.6 s\n",
      "Wall time: 37.6 s\n"
     ]
    }
   ],
   "source": [
    "%%time\n",
    "#cv = 5 and Random forest and 5 features\n",
    "from sklearn.ensemble import RandomForestClassifier\n",
    "RF_b_pipeline =  Pipeline([(\"impute\", SimpleImputer(strategy='constant',fill_value= 0)),(\"scale\", MaxAbsScaler()),(\"RF\",RandomForestClassifier(verbose=2, n_jobs=8))])\n",
    "RF_scores_b = cross_validate(RF_b_pipeline, X_b, y_b, cv=5, scoring=scoring)\n",
    "\n",
    "# print the mean G-mean score and standard deviation\n",
    "print(\"Mean G-mean: {:.3f} (+/- {:.3f})\".format(RF_scores_b['test_gmean'].mean(), RF_scores_b['test_gmean'].std()))\n",
    "print(\"F1: \", RF_scores_b['test_f1'].mean())\n",
    "print(\"Precision: \", RF_scores_b['test_precision'].mean())\n",
    "print(\"FDR: \", RF_scores_b['test_fdr'].mean())\n",
    "print(\"FAR :\", RF_scores_b['test_far'].mean())\n",
    "print(\"Recall: \", RF_scores_b['test_recall'].mean())"
   ]
  },
  {
   "cell_type": "code",
   "execution_count": 28,
   "metadata": {},
   "outputs": [
    {
     "name": "stdout",
     "output_type": "stream",
     "text": [
      "Mean G-mean: 0.254 (+/- 0.062)\n",
      "F1:  0.06834288101205395\n",
      "Precision:  0.07742426129016809\n",
      "FDR:  0.06847826086956522\n",
      "FAR : 0.0001388989317759209\n",
      "Recall:  0.06847826086956522\n",
      "CPU times: user 302 ms, sys: 1.12 s, total: 1.42 s\n",
      "Wall time: 4min 3s\n"
     ]
    }
   ],
   "source": [
    "%%time\n",
    "from sklearn.tree import DecisionTreeClassifier\n",
    "# cv=5 and all features + DT\n",
    "DT_pipe =  Pipeline([(\"impute\", SimpleImputer(strategy='constant',fill_value= 0)),(\"scale\", MaxAbsScaler()),(\"DT\", DecisionTreeClassifier())])\n",
    "DT_scores = cross_validate(DT_pipe, X, y, cv=5, scoring=scoring, n_jobs=-1)\n",
    "# print the mean G-mean score and standard deviation\n",
    "print(\"Mean G-mean: {:.3f} (+/- {:.3f})\".format(DT_scores['test_gmean'].mean(), DT_scores['test_gmean'].std()))\n",
    "print(\"F1: \", DT_scores['test_f1'].mean())\n",
    "print(\"Precision: \", DT_scores['test_precision'].mean())\n",
    "print(\"FDR: \", DT_scores['test_fdr'].mean())\n",
    "print(\"FAR :\", DT_scores['test_far'].mean())\n",
    "print(\"Recall: \", DT_scores['test_recall'].mean())"
   ]
  },
  {
   "cell_type": "code",
   "execution_count": 29,
   "metadata": {},
   "outputs": [
    {
     "name": "stdout",
     "output_type": "stream",
     "text": [
      "Mean G-mean: 0.258 (+/- 0.062)\n",
      "F1:  0.07322347166396413\n",
      "Precision:  0.08653603706235284\n",
      "FDR:  0.06847826086956521\n",
      "FAR : 6.525856791975828e-05\n",
      "Recall:  0.06847826086956521\n",
      "CPU times: user 4.91 s, sys: 304 ms, total: 5.21 s\n",
      "Wall time: 5.22 s\n"
     ]
    }
   ],
   "source": [
    "%%time\n",
    "from sklearn.tree import DecisionTreeClassifier\n",
    "# cv=5 and 5 features + DT\n",
    "DT_b_pipe =  Pipeline([(\"impute\", SimpleImputer(strategy='constant',fill_value= 0)),(\"scale\", MaxAbsScaler()),(\"DT\", DecisionTreeClassifier())])\n",
    "DT_b_scores = cross_validate(DT_b_pipe, X_b, y_b, cv=5, scoring=scoring)\n",
    "# print the mean G-mean score and standard deviation\n",
    "print(\"Mean G-mean: {:.3f} (+/- {:.3f})\".format(DT_b_scores['test_gmean'].mean(), DT_scores['test_gmean'].std()))\n",
    "print(\"F1: \", DT_b_scores['test_f1'].mean())\n",
    "print(\"Precision: \", DT_b_scores['test_precision'].mean())\n",
    "print(\"FDR: \", DT_b_scores['test_fdr'].mean())\n",
    "print(\"FAR :\", DT_b_scores['test_far'].mean())\n",
    "print(\"Recall: \", DT_b_scores['test_recall'].mean())"
   ]
  },
  {
   "cell_type": "code",
   "execution_count": 30,
   "metadata": {},
   "outputs": [
    {
     "name": "stdout",
     "output_type": "stream",
     "text": [
      "Mean G-mean: 0.284 (+/- 0.068)\n",
      "F1:  0.06415929131275702\n",
      "Precision:  0.052534546063957833\n",
      "FDR:  0.08550724637681159\n",
      "FAR : 0.0001209379394594968\n",
      "Recall:  0.08550724637681159\n",
      "CPU times: user 389 ms, sys: 982 ms, total: 1.37 s\n",
      "Wall time: 12min 31s\n"
     ]
    }
   ],
   "source": [
    "%%time\n",
    "from sklearn.tree import DecisionTreeClassifier\n",
    "from sklearn.feature_selection import RFE\n",
    "#cv = 5 and RFE + Random Forest + 10 selected features and removing 5 features each time\n",
    "from joblib import parallel_backend\n",
    "\n",
    "\n",
    "rfecv = RFE(DecisionTreeClassifier(), n_features_to_select=10, step=5)\n",
    "rfe_pipeline = Pipeline([\n",
    "    ('imputer', SimpleImputer(strategy='constant',fill_value= 0)),\n",
    "    ('scaler', MaxAbsScaler()),\n",
    "    ('feature', rfecv),\n",
    "    ('classifier', DecisionTreeClassifier())\n",
    "])\n",
    "rfe_scores = cross_validate(rfe_pipeline, X, y, cv=5, scoring=scoring, n_jobs=7)\n",
    "# print the mean G-mean score and standard deviation\n",
    "print(\"Mean G-mean: {:.3f} (+/- {:.3f})\".format(rfe_scores['test_gmean'].mean(), rfe_scores['test_gmean'].std()))\n",
    "print(\"F1: \", rfe_scores['test_f1'].mean())\n",
    "print(\"Precision: \", rfe_scores['test_precision'].mean())\n",
    "print(\"FDR: \", rfe_scores['test_fdr'].mean())\n",
    "print(\"FAR :\", rfe_scores['test_far'].mean())\n",
    "print(\"Recall: \", rfe_scores['test_recall'].mean())"
   ]
  },
  {
   "cell_type": "code",
   "execution_count": 31,
   "metadata": {},
   "outputs": [
    {
     "name": "stdout",
     "output_type": "stream",
     "text": [
      "Mean G-mean: 0.376 (+/- 0.111)\n",
      "F1:  0.11039520885140877\n",
      "Precision:  0.08929137311490251\n",
      "FDR:  0.15398550724637683\n",
      "FAR : 0.00012033922848433386\n",
      "Recall:  0.15398550724637683\n",
      "CPU times: user 888 ms, sys: 8.39 s, total: 9.28 s\n",
      "Wall time: 58min 40s\n"
     ]
    }
   ],
   "source": [
    "%%time\n",
    "from sklearn.ensemble import GradientBoostingClassifier\n",
    "# cv=5 and all features + GBDT\n",
    "GBDT_pipe =  Pipeline([(\"impute\", SimpleImputer(strategy='constant',fill_value= 0)),(\"scale\", MaxAbsScaler()),(\"GBDT\", GradientBoostingClassifier())])\n",
    "GBDT_scores = cross_validate(GBDT_pipe, X, y, cv=5, scoring=scoring, n_jobs=-1)\n",
    "# print the mean G-mean score and standard deviation\n",
    "print(\"Mean G-mean: {:.3f} (+/- {:.3f})\".format(GBDT_scores['test_gmean'].mean(), GBDT_scores['test_gmean'].std()))\n",
    "print(\"F1: \", GBDT_scores['test_f1'].mean())\n",
    "print(\"Precision: \", GBDT_scores['test_precision'].mean())\n",
    "print(\"FDR: \", GBDT_scores['test_fdr'].mean())\n",
    "print(\"FAR :\", GBDT_scores['test_far'].mean())\n",
    "print(\"Recall: \", GBDT_scores['test_recall'].mean())\n"
   ]
  },
  {
   "cell_type": "code",
   "execution_count": 33,
   "metadata": {},
   "outputs": [
    {
     "name": "stdout",
     "output_type": "stream",
     "text": [
      "Mean G-mean: 0.306 (+/- 0.092)\n",
      "F1:  0.08353109931520726\n",
      "Precision:  0.15558237840590783\n",
      "FDR:  0.10217391304347825\n",
      "FAR : 8.860801636387675e-05\n",
      "Recall:  0.10217391304347825\n",
      "CPU times: user 141 ms, sys: 76 ms, total: 217 ms\n",
      "Wall time: 32.2 s\n"
     ]
    }
   ],
   "source": [
    "%%time\n",
    "# cv=5 and 5 features + GBDT\n",
    "GBDT_b_pipe =  Pipeline([(\"impute\", SimpleImputer(strategy='constant',fill_value= 0)),(\"scale\", MaxAbsScaler()),(\"GBDT\", GradientBoostingClassifier())])\n",
    "GBDT_b_scores = cross_validate(GBDT_b_pipe, X_b, y_b, cv=5, scoring=scoring, n_jobs=-1)\n",
    "# print the mean G-mean score and standard deviation\n",
    "print(\"Mean G-mean: {:.3f} (+/- {:.3f})\".format(GBDT_b_scores['test_gmean'].mean(), GBDT_b_scores['test_gmean'].std()))\n",
    "print(\"F1: \", GBDT_b_scores['test_f1'].mean())\n",
    "print(\"Precision: \", GBDT_b_scores['test_precision'].mean())\n",
    "print(\"FDR: \", GBDT_b_scores['test_fdr'].mean())\n",
    "print(\"FAR :\", GBDT_b_scores['test_far'].mean())\n",
    "print(\"Recall: \", GBDT_b_scores['test_recall'].mean())"
   ]
  },
  {
   "cell_type": "code",
   "execution_count": 35,
   "metadata": {},
   "outputs": [
    {
     "name": "stdout",
     "output_type": "stream",
     "text": [
      "Mean G-mean: 0.881 (+/- 0.040)\n",
      "F1:  0.0022668784006381567\n",
      "Precision:  0.0011350775268555093\n",
      "FDR:  0.8217391304347826\n",
      "FAR : 0.05273554011761102\n",
      "Recall:  0.8217391304347826\n",
      "CPU times: user 220 ms, sys: 887 ms, total: 1.11 s\n",
      "Wall time: 2min 59s\n"
     ]
    }
   ],
   "source": [
    "%%time\n",
    "from imblearn.ensemble import BalancedBaggingClassifier\n",
    "# cv=5 and all features + BaggingClassifier\n",
    "BG_pipe =  Pipeline([(\"impute\", SimpleImputer(strategy='constant',fill_value= 0)),(\"scale\", MaxAbsScaler()),(\"BG\", BalancedBaggingClassifier())])\n",
    "BG_scores = cross_validate(BG_pipe, X, y, cv=5, scoring=scoring, n_jobs=-1)\n",
    "# print the mean G-mean score and standard deviation\n",
    "print(\"Mean G-mean: {:.3f} (+/- {:.3f})\".format(BG_scores['test_gmean'].mean(), BG_scores['test_gmean'].std()))\n",
    "print(\"F1: \", BG_scores['test_f1'].mean())\n",
    "print(\"Precision: \", BG_scores['test_precision'].mean())\n",
    "print(\"FDR: \", BG_scores['test_fdr'].mean())\n",
    "print(\"FAR :\", BG_scores['test_far'].mean())\n",
    "print(\"Recall: \", BG_scores['test_recall'].mean())"
   ]
  },
  {
   "cell_type": "code",
   "execution_count": 38,
   "metadata": {},
   "outputs": [
    {
     "name": "stdout",
     "output_type": "stream",
     "text": [
      "Mean G-mean: 0.894 (+/- 0.040)\n",
      "F1:  0.002634887643297783\n",
      "Precision:  0.001319531441351816\n",
      "FDR:  0.8391304347826086\n",
      "FAR : 0.044615325954591015\n",
      "Recall:  0.8391304347826086\n",
      "CPU times: user 146 ms, sys: 94.8 ms, total: 241 ms\n",
      "Wall time: 4.69 s\n"
     ]
    }
   ],
   "source": [
    "%%time\n",
    "# cv=5 and 5 features + BG\n",
    "BG_b_pipe =  Pipeline([(\"impute\", SimpleImputer(strategy='constant',fill_value= 0)),(\"scale\", MaxAbsScaler()),(\"BG\", BalancedBaggingClassifier())])\n",
    "BG_b_scores = cross_validate(BG_b_pipe, X_b, y_b, cv=5, scoring=scoring, n_jobs=-1)\n",
    "# print the mean G-mean score and standard deviation\n",
    "print(\"Mean G-mean: {:.3f} (+/- {:.3f})\".format(BG_b_scores['test_gmean'].mean(), BG_b_scores['test_gmean'].std()))\n",
    "print(\"F1: \", BG_b_scores['test_f1'].mean())\n",
    "print(\"Precision: \", BG_b_scores['test_precision'].mean())\n",
    "print(\"FDR: \", BG_b_scores['test_fdr'].mean())\n",
    "print(\"FAR :\", BG_b_scores['test_far'].mean())\n",
    "print(\"Recall: \", BG_b_scores['test_recall'].mean())"
   ]
  },
  {
   "cell_type": "code",
   "execution_count": null,
   "metadata": {},
   "outputs": [],
   "source": []
  }
 ],
 "metadata": {
  "colab": {
   "provenance": []
  },
  "gpuClass": "standard",
  "kernelspec": {
   "display_name": "Python 3 (ipykernel)",
   "language": "python",
   "name": "python3"
  },
  "language_info": {
   "codemirror_mode": {
    "name": "ipython",
    "version": 3
   },
   "file_extension": ".py",
   "mimetype": "text/x-python",
   "name": "python",
   "nbconvert_exporter": "python",
   "pygments_lexer": "ipython3",
   "version": "3.10.9"
  }
 },
 "nbformat": 4,
 "nbformat_minor": 4
}
